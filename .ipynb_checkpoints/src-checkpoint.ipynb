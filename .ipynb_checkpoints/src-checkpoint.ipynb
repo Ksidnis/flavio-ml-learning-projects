{
 "cells": [
  {
   "cell_type": "code",
   "execution_count": 391,
   "id": "643e607d",
   "metadata": {},
   "outputs": [],
   "source": [
    "import pandas as pd \n",
    "import numpy as np \n",
    "import matplotlib.pyplot as plt \n",
    "import seaborn as sns \n",
    "\n",
    "sns.set_style(\"darkgrid\")\n",
    "train = pd.read_csv(\"train.csv\")\n",
    "test = pd.read_csv(\"test.csv\")\n"
   ]
  },
  {
   "cell_type": "markdown",
   "id": "938e241f",
   "metadata": {},
   "source": [
    "# 1. Understand data "
   ]
  },
  {
   "cell_type": "code",
   "execution_count": 392,
   "id": "a446732d",
   "metadata": {},
   "outputs": [
    {
     "data": {
      "text/plain": [
       "Index(['id', 'keyword', 'location', 'text', 'target'], dtype='object')"
      ]
     },
     "execution_count": 392,
     "metadata": {},
     "output_type": "execute_result"
    }
   ],
   "source": [
    "train.columns"
   ]
  },
  {
   "cell_type": "code",
   "execution_count": 393,
   "id": "f6a1e76d",
   "metadata": {},
   "outputs": [
    {
     "data": {
      "text/plain": [
       "Index(['id', 'keyword', 'location', 'text'], dtype='object')"
      ]
     },
     "execution_count": 393,
     "metadata": {},
     "output_type": "execute_result"
    }
   ],
   "source": [
    "test.columns"
   ]
  },
  {
   "cell_type": "code",
   "execution_count": 394,
   "id": "6f13e7b3",
   "metadata": {},
   "outputs": [
    {
     "data": {
      "text/html": [
       "<div>\n",
       "<style scoped>\n",
       "    .dataframe tbody tr th:only-of-type {\n",
       "        vertical-align: middle;\n",
       "    }\n",
       "\n",
       "    .dataframe tbody tr th {\n",
       "        vertical-align: top;\n",
       "    }\n",
       "\n",
       "    .dataframe thead th {\n",
       "        text-align: right;\n",
       "    }\n",
       "</style>\n",
       "<table border=\"1\" class=\"dataframe\">\n",
       "  <thead>\n",
       "    <tr style=\"text-align: right;\">\n",
       "      <th></th>\n",
       "      <th>id</th>\n",
       "      <th>keyword</th>\n",
       "      <th>location</th>\n",
       "      <th>text</th>\n",
       "      <th>target</th>\n",
       "    </tr>\n",
       "  </thead>\n",
       "  <tbody>\n",
       "    <tr>\n",
       "      <th>0</th>\n",
       "      <td>1</td>\n",
       "      <td>NaN</td>\n",
       "      <td>NaN</td>\n",
       "      <td>Our Deeds are the Reason of this #earthquake M...</td>\n",
       "      <td>1</td>\n",
       "    </tr>\n",
       "    <tr>\n",
       "      <th>1</th>\n",
       "      <td>4</td>\n",
       "      <td>NaN</td>\n",
       "      <td>NaN</td>\n",
       "      <td>Forest fire near La Ronge Sask. Canada</td>\n",
       "      <td>1</td>\n",
       "    </tr>\n",
       "    <tr>\n",
       "      <th>2</th>\n",
       "      <td>5</td>\n",
       "      <td>NaN</td>\n",
       "      <td>NaN</td>\n",
       "      <td>All residents asked to 'shelter in place' are ...</td>\n",
       "      <td>1</td>\n",
       "    </tr>\n",
       "    <tr>\n",
       "      <th>3</th>\n",
       "      <td>6</td>\n",
       "      <td>NaN</td>\n",
       "      <td>NaN</td>\n",
       "      <td>13,000 people receive #wildfires evacuation or...</td>\n",
       "      <td>1</td>\n",
       "    </tr>\n",
       "    <tr>\n",
       "      <th>4</th>\n",
       "      <td>7</td>\n",
       "      <td>NaN</td>\n",
       "      <td>NaN</td>\n",
       "      <td>Just got sent this photo from Ruby #Alaska as ...</td>\n",
       "      <td>1</td>\n",
       "    </tr>\n",
       "    <tr>\n",
       "      <th>5</th>\n",
       "      <td>8</td>\n",
       "      <td>NaN</td>\n",
       "      <td>NaN</td>\n",
       "      <td>#RockyFire Update =&gt; California Hwy. 20 closed...</td>\n",
       "      <td>1</td>\n",
       "    </tr>\n",
       "    <tr>\n",
       "      <th>6</th>\n",
       "      <td>10</td>\n",
       "      <td>NaN</td>\n",
       "      <td>NaN</td>\n",
       "      <td>#flood #disaster Heavy rain causes flash flood...</td>\n",
       "      <td>1</td>\n",
       "    </tr>\n",
       "    <tr>\n",
       "      <th>7</th>\n",
       "      <td>13</td>\n",
       "      <td>NaN</td>\n",
       "      <td>NaN</td>\n",
       "      <td>I'm on top of the hill and I can see a fire in...</td>\n",
       "      <td>1</td>\n",
       "    </tr>\n",
       "    <tr>\n",
       "      <th>8</th>\n",
       "      <td>14</td>\n",
       "      <td>NaN</td>\n",
       "      <td>NaN</td>\n",
       "      <td>There's an emergency evacuation happening now ...</td>\n",
       "      <td>1</td>\n",
       "    </tr>\n",
       "    <tr>\n",
       "      <th>9</th>\n",
       "      <td>15</td>\n",
       "      <td>NaN</td>\n",
       "      <td>NaN</td>\n",
       "      <td>I'm afraid that the tornado is coming to our a...</td>\n",
       "      <td>1</td>\n",
       "    </tr>\n",
       "    <tr>\n",
       "      <th>10</th>\n",
       "      <td>16</td>\n",
       "      <td>NaN</td>\n",
       "      <td>NaN</td>\n",
       "      <td>Three people died from the heat wave so far</td>\n",
       "      <td>1</td>\n",
       "    </tr>\n",
       "    <tr>\n",
       "      <th>11</th>\n",
       "      <td>17</td>\n",
       "      <td>NaN</td>\n",
       "      <td>NaN</td>\n",
       "      <td>Haha South Tampa is getting flooded hah- WAIT ...</td>\n",
       "      <td>1</td>\n",
       "    </tr>\n",
       "    <tr>\n",
       "      <th>12</th>\n",
       "      <td>18</td>\n",
       "      <td>NaN</td>\n",
       "      <td>NaN</td>\n",
       "      <td>#raining #flooding #Florida #TampaBay #Tampa 1...</td>\n",
       "      <td>1</td>\n",
       "    </tr>\n",
       "    <tr>\n",
       "      <th>13</th>\n",
       "      <td>19</td>\n",
       "      <td>NaN</td>\n",
       "      <td>NaN</td>\n",
       "      <td>#Flood in Bago Myanmar #We arrived Bago</td>\n",
       "      <td>1</td>\n",
       "    </tr>\n",
       "    <tr>\n",
       "      <th>14</th>\n",
       "      <td>20</td>\n",
       "      <td>NaN</td>\n",
       "      <td>NaN</td>\n",
       "      <td>Damage to school bus on 80 in multi car crash ...</td>\n",
       "      <td>1</td>\n",
       "    </tr>\n",
       "    <tr>\n",
       "      <th>15</th>\n",
       "      <td>23</td>\n",
       "      <td>NaN</td>\n",
       "      <td>NaN</td>\n",
       "      <td>What's up man?</td>\n",
       "      <td>0</td>\n",
       "    </tr>\n",
       "    <tr>\n",
       "      <th>16</th>\n",
       "      <td>24</td>\n",
       "      <td>NaN</td>\n",
       "      <td>NaN</td>\n",
       "      <td>I love fruits</td>\n",
       "      <td>0</td>\n",
       "    </tr>\n",
       "    <tr>\n",
       "      <th>17</th>\n",
       "      <td>25</td>\n",
       "      <td>NaN</td>\n",
       "      <td>NaN</td>\n",
       "      <td>Summer is lovely</td>\n",
       "      <td>0</td>\n",
       "    </tr>\n",
       "    <tr>\n",
       "      <th>18</th>\n",
       "      <td>26</td>\n",
       "      <td>NaN</td>\n",
       "      <td>NaN</td>\n",
       "      <td>My car is so fast</td>\n",
       "      <td>0</td>\n",
       "    </tr>\n",
       "    <tr>\n",
       "      <th>19</th>\n",
       "      <td>28</td>\n",
       "      <td>NaN</td>\n",
       "      <td>NaN</td>\n",
       "      <td>What a goooooooaaaaaal!!!!!!</td>\n",
       "      <td>0</td>\n",
       "    </tr>\n",
       "  </tbody>\n",
       "</table>\n",
       "</div>"
      ],
      "text/plain": [
       "    id keyword location                                               text  \\\n",
       "0    1     NaN      NaN  Our Deeds are the Reason of this #earthquake M...   \n",
       "1    4     NaN      NaN             Forest fire near La Ronge Sask. Canada   \n",
       "2    5     NaN      NaN  All residents asked to 'shelter in place' are ...   \n",
       "3    6     NaN      NaN  13,000 people receive #wildfires evacuation or...   \n",
       "4    7     NaN      NaN  Just got sent this photo from Ruby #Alaska as ...   \n",
       "5    8     NaN      NaN  #RockyFire Update => California Hwy. 20 closed...   \n",
       "6   10     NaN      NaN  #flood #disaster Heavy rain causes flash flood...   \n",
       "7   13     NaN      NaN  I'm on top of the hill and I can see a fire in...   \n",
       "8   14     NaN      NaN  There's an emergency evacuation happening now ...   \n",
       "9   15     NaN      NaN  I'm afraid that the tornado is coming to our a...   \n",
       "10  16     NaN      NaN        Three people died from the heat wave so far   \n",
       "11  17     NaN      NaN  Haha South Tampa is getting flooded hah- WAIT ...   \n",
       "12  18     NaN      NaN  #raining #flooding #Florida #TampaBay #Tampa 1...   \n",
       "13  19     NaN      NaN            #Flood in Bago Myanmar #We arrived Bago   \n",
       "14  20     NaN      NaN  Damage to school bus on 80 in multi car crash ...   \n",
       "15  23     NaN      NaN                                     What's up man?   \n",
       "16  24     NaN      NaN                                      I love fruits   \n",
       "17  25     NaN      NaN                                   Summer is lovely   \n",
       "18  26     NaN      NaN                                  My car is so fast   \n",
       "19  28     NaN      NaN                       What a goooooooaaaaaal!!!!!!   \n",
       "\n",
       "    target  \n",
       "0        1  \n",
       "1        1  \n",
       "2        1  \n",
       "3        1  \n",
       "4        1  \n",
       "5        1  \n",
       "6        1  \n",
       "7        1  \n",
       "8        1  \n",
       "9        1  \n",
       "10       1  \n",
       "11       1  \n",
       "12       1  \n",
       "13       1  \n",
       "14       1  \n",
       "15       0  \n",
       "16       0  \n",
       "17       0  \n",
       "18       0  \n",
       "19       0  "
      ]
     },
     "execution_count": 394,
     "metadata": {},
     "output_type": "execute_result"
    }
   ],
   "source": [
    "train.head(20)"
   ]
  },
  {
   "cell_type": "code",
   "execution_count": 395,
   "id": "d1b50786",
   "metadata": {},
   "outputs": [
    {
     "name": "stdout",
     "output_type": "stream",
     "text": [
      "13,000 people receive #wildfires evacuation orders in California \n",
      "#RockyFire Update => California Hwy. 20 closed in both directions due to Lake County fire - #CAfire #wildfires\n",
      "Deputies: Man shot before Brighton home set ablaze http://t.co/gWNRhMSO8k\n",
      "@Eganator2000 There aren't many Obliteration servers but I always like to play when there are :D\n"
     ]
    }
   ],
   "source": [
    "ex_sent3    = train['text'].iloc[3]\n",
    "ex_sent5    = train['text'].iloc[5]\n",
    "ex_sent50   = train['text'].iloc[50]\n",
    "ex_sent5226 = train['text'].iloc[5226] \n",
    "print(ex_sent3)\n",
    "print(ex_sent5)\n",
    "print(ex_sent50)\n",
    "print(ex_sent5226)"
   ]
  },
  {
   "cell_type": "code",
   "execution_count": 396,
   "id": "ad191a08",
   "metadata": {},
   "outputs": [
    {
     "name": "stdout",
     "output_type": "stream",
     "text": [
      "the number of hashtags is :  1924\n",
      "{'earthquake': 19, 'wildfires': 5, 'alaska': 2, 'rockyfire': 4, 'cafire': 2, 'flood': 4, 'disaster': 8, 'flooding': 4, 'raining': 1, 'florida': 2, 'tampabay': 1, 'tampa': 2, 'we': 2, 'breaking': 9, 'metal': 1, 'rt': 10, 'africanbaze': 1, 'mufc': 2, 'bridgetown': 1, 'nsfw': 4, 'kurds': 1, 'diyala': 1, 'california': 5, 'climate': 2, 'energy': 1, 'nowplaying': 23, 'edm': 8, 'nashvilletraffic': 1, 'santaclara': 1, 'bayarea': 1, 'traffic': 3, 'personalinjury': 1, 'solicitor': 1, 'otleyhour': 1, 'stlouis': 1, 'caraccidentlawyer': 1, 'truckcrash': 1, 'fortworth': 1, 'ashville': 1, 'manchester': 4, 'hagerstown': 1, 'whag': 1, 'bahrain': 1, 'arrestpastornganga': 2, 'dubstep': 7, 'trapmusic': 7, 'dnb': 8, 'dance': 7, 'ices': 7, 'growingupspoiled': 1, 'wisdomwed': 1, 'lifehacks': 1, 'silverwood': 1, 'aftershock': 1, '': 71, 'book': 1, 'now': 1, 'wdyouth': 1, 'biblestudy': 1, 'news': 76, 'horrible': 1, 'accident': 4, 'watchthevideo': 1, 'kca': 4, 'votejkt48id': 4, 'rip': 2, 'binladen': 1, 'mlb': 3, 'man': 1, 'airport': 1, 'airplane': 3, 'aircraft': 2, 'aeroplane': 1, 'runway': 1, 'freaky': 1, 'crash': 2, 'pilot': 1, 'death': 1, 'carfest': 1, 'omg': 1, 'jetengine': 1, 'turbojet': 1, 'boing': 1, 'g90': 1, 'rodkiai': 1, 'emsne': 1, 'yugvani': 3, 'justsaying': 1, 'randomthought': 1, 'til': 3, 'dna': 1, 'ems': 4, 'paramedics': 1, 'ambulance': 1, 'reuters': 3, 'worldnews': 9, 'mets': 4, 'fantasticfour': 2, 'fant4stic': 1, 'lgm': 1, 'gilbert23': 3, 'az': 1, 'wildhorses': 2, 'tantonationalforest': 1, 'saltriverwildhorses': 1, 'sciencefiction': 1, 'internetradio': 1, 'collegeradi': 1, 'warmbodies': 1, 'etcpb': 1, 'storm': 2, 'apocalypse': 3, 'pbban': 4, 'doublecups': 2, 'armageddon': 6, 'love': 4, 'truelove': 2, 'romance': 2, 'voodoo': 2, 'seduction': 2, 'astrology': 2, 'rtrrt': 2, 'lotz': 2, '1008pla': 1, 'eonlinechat': 1, '1008planet': 1, 'startrek': 1, 'tos': 1, 'entertainment': 2, 'brucewillis': 1, 'dvd': 2, 'ebay': 1, 'auction': 2, 'preppers': 1, 'doomsday': 1, 'shtf': 1, 'preppertalk': 1, 'survival': 1, '2a': 1, 'prepper': 1, 'ultimalucha': 3, 'christians': 1, 'israel': 3, 'cufi': 1, 'us': 7, 'preseasonworkouts': 1, 'interestraterise': 1, 'brics': 1, 'roberts': 1, 'russia': 3, 'thereal': 1, 'beyhive': 8, 'directioners': 9, '5sosfam': 2, 'queens': 1, 'fanarmyfaceoff': 1, 'indiakomuntorjawabdo': 1, 'mtvsummerstar': 1, 'videoveranomtv': 2, 'mtvhottest': 7, 'newsintweets': 3, 'lgbt': 5, 'kisii': 2, 'countynews': 2, 'lesbian': 1, 'cbcto': 1, 'vegetarian': 1, 'vegan': 1, 'govegan': 1, 'uniteblue': 1, 'arsonist': 1, 'headlines': 1, 'nightbeat': 1, '2minutemix': 1, 'spotlight': 1, 'wniagospel': 1, '7newsadl': 1, 'sanfrancisco': 1, 'newyork': 5, 'nativehuman': 1, 'myreligion': 1, 'tbt': 5, 'udhampur': 2, 'mumbai': 5, 'allthenews': 1, 'palestine': 3, 'volleyball': 1, 'ableg': 1, 'cdnpoli': 1, 'nwo': 1, 'pugprobs': 1, 'pt': 2, 'robotcoingame': 1, 'bitcoin': 2, 'freebitcoin': 1, 'welovela': 1, 'nhlducks': 1, 'sportsroadhouse': 1, 'colorado': 2, 'avalanche': 4, 'nhl': 2, 'hockey': 1, '171': 1, 'weddinghour': 1, 'coloradoavalanche': 1, 'entretenimento': 1, 'video': 4, '124': 1, 'bts': 1, 'nowplay': 1, 'listen': 4, 'radio': 4, 'tb': 1, 'throwback': 1, 'sfgiants': 1, 'du19': 1, 'warcraft': 1, 'lonepine': 1, 'gallipoli': 1, 'ww1': 1, 'tcot': 8, 'frontpage': 3, 'bioterror': 3, 'rickperry': 3, 'gopdebate': 3, 'world': 11, 'phone': 2, 'apple': 1, 'mobile': 1, 'orchardalley': 1, 'les': 1, 'nyc': 3, 'gardens': 1, 'breakingnews': 4, 'trucking': 1, 'fedex': 1, 'anthrax': 1, 'bioterrorism': 4, 'virus': 1, 'infectiousdiseases': 1, 'pathogen': 1, 'infectious': 1, 'ebola': 3, 'digitalhealth': 1, 'hcsm': 1, 'irandeal': 9, 'glanders': 1, 'raisinfingers': 1, 'family': 1, 'cleveland': 1, 'standup': 1, 'thisispublichealth': 1, 'socialmedia': 2, 'artisteoftheweekfact': 1, 'conversations': 1, 'coast2coastdjs': 1, 'jiwonle': 1, 'hiphop': 2, 'clubbanger': 1, 'weddings': 1, 'listenlive': 2, 'stoponesounds': 1, 'airwaves': 1, 'hinatobot': 1, 'escorts': 1, 'gfe': 1, 'dubai': 1, 'arizona': 2, 'realestate': 1, 'oomf': 1, '2fast2furious': 1, 'sun': 1, 'earth': 1, 'catfishmtv': 1, 'wbc2015': 1, 'catfish': 1, 'harperanetflixshow': 1, 'elxn42': 1, 'stopharper': 1, 'doping': 1, 'zippoline': 1, 'moveit': 1, 'cle': 1, 'palestinian': 2, 'refugee': 1, 'israeli': 1, 'tweet4taiji': 1, 'overwatch': 1, 'lwb': 1, 'kindle': 6, 'tattoo': 1, 'speakingfromexperience': 1, 'decisionsondecisions': 1, 'rolandonabeats': 1, 'win': 1, 'bbloggers': 1, 'stephenking': 1, 'thedarktower': 1, 'insomnia': 1, 'boxing': 1, 'bloodymonday': 1, 'tvshowtime': 1, 'mystery': 2, 'thisdayinhistory': 1, 'musicadvisory': 1, 'bb17': 5, 'givebackkalinwhiteaccount': 1, 'piperwearsthepants': 1, 'charmed': 1, 'republicans': 1, 'handbag': 8, 'womens': 6, 'fashion': 9, 'style': 2, '9973': 1, 'trollingtilmeekdiss': 1, 'vuzuhustle': 1, 'ovofest': 2, 'ziphimup': 1, 'bestseller': 1, 'concert': 1, 'moving2k15': 1, 'expertwhiner': 1, 'cutekitten': 1, 'catsofinstagram': 1, 'summerinsweden': 1, 'katt': 1, 'katterp': 1, 'dumle': 1, 'dagens': 1, 'norge2040': 1, 'enolagay': 1, 'hiroshima': 22, 'whatcanthedo': 1, 'bluejays': 4, 'arts': 3, 'elephantintheroom': 1, 'turkish': 2, 'bannukes': 1, 'date': 1, 'africansinsf': 1, 'beyondgps': 1, 'bombed': 1, 'banthebomb': 1, 'canada': 2, 'setting4success': 1, 'smallbusiness': 1, 'entrepreneur': 2, 'australia': 2, 'japan': 11, 'pearlharbor': 1, 'generalnews': 2, 'oped': 2, 'cricket': 1, 'ashes': 2, 'collapse': 1, 'traintragedy': 1, 'engvaus': 2, 'computers': 1, 'gadgets': 2, 'slingnews': 1, 'usa': 6, 'sustainability': 1, 'blacklivesmatter': 3, '9newsmornings': 1, 'respect': 1, 'infosec': 2, 'gbbo': 18, 'wildfire': 8, 'thestrain': 1, 'tweetlikeitsseptember11th2001': 2, 'kenya': 1, 'langata': 1, 'albany': 1, 'ny': 1, 'ppsellsbabyparts': 1, 'rdg': 1, 'nh1news': 1, 'montgomery': 1, 'history': 1, 'mht': 1, 'redsox': 1, 'loseit': 2, 'myfitnesspal': 2, 'cubstalk': 1, 'atk': 2, 'letsfootball': 2, 'fat': 1, 'burnfat': 1, 'skinny': 1, 'workout': 1, 'sjubb': 1, 'zionism': 2, 'babies': 1, 'ika': 1, 'tuning': 1, 'diet': 1, 'firefighters': 1, 'tech': 6, 'booradleyvancullen': 1, 'appreciativeinquiry': 1, 'standwithpp': 2, 'spain': 1, 'criticalmedia': 1, 'pbs': 1, 'iraq': 2, 'francisunderwood': 1, 'hoc': 1, 'afghanistan': 1, '2015': 1, 'casualties': 1, 'civilian': 1, 'ftsn': 1, 'ftsnnewsdesk': 1, 'hiring': 11, 'wave': 1, 'casualty': 1, 'aids': 1, 'endangered': 1, 'drone': 1, 'jobs': 14, 'denver': 4, 'amicospizzato': 1, 'seeyouatamicos': 1, 'homealone2': 1, 'film4': 1, 'france': 3, 'diversification': 1, 'pjnet': 2, 'ccot': 2, 'borrowers': 1, 'interest': 1, 'catastrophe': 2, 'iphone': 5, 'twist': 1, 'preparedness': 5, 'boy': 1, 'mix': 1, 'vmas': 1, 'pixelsmovie': 1, 'insurance': 4, 'job': 12, 'spark': 1, 'song': 1, 'imdb': 2, 'results': 1, 'nar': 1, 'phuket': 1, 'wolves': 1, 'savedenaliwolves': 1, 'scraptrident': 1, 'real': 1, 'pieceofme': 1, 'gravitymovie': 1, 'defendant': 1, 'catastrophic': 1, 'illinois': 1, 'hazmat': 1, 'savebees': 3, 'krefeld': 1, 'seattle': 8, 'chemical': 4, 'dependency': 4, 'benews': 1, 'ijetalerts': 1, 'watersafety': 1, 'usar2015': 1, 'usar15': 1, 'ruor': 1, '6': 2, 'yr': 1, 'heat': 1, 'cold': 1, 'tough': 1, 'crossfit': 1, 'humble': 1, 'funnynews': 1, 'business': 7, 'thinkpink': 1, 'magichairbump': 1, 'internet': 1, 'nieuws': 1, 'talkradio': 2, 'greece': 1, 'bailout': 1, 'theashes': 1, 'roh3': 1, 'jfb': 1, 'tfb': 1, 'alrasyid448iturasya': 1, 'roh3smantibatam': 1, 'wish': 1, 'oneheartonemindonecss': 1, 'tvjnews': 1, 'i': 1, 'after': 1, 'pluto': 1, 'nlccollide': 1, 'wogc': 1, 'vancouver': 3, 'isea2015': 1, 'gemma': 1, 'bowe': 1, 'thedoolinggroup': 1, 'wattys2015': 1, 'wattpad': 2, 'teenfiction': 1, 'ihave44episodesofgg': 1, 'nojoke': 1, 'newswatch': 2, 'ptbo': 2, 'yagitudeh': 1, 'butgod': 1, 'simple': 2, 'alaskaseafood': 1, 'askforalaska': 1, 'justinbieber': 1, 'harrystyles': 1, 'cern': 1, 'harrybecareful': 3, 'hwy401': 1, 'cambridge': 1, 'opp': 1, 'technology': 5, 'cool': 3, 'body': 1, 'shop': 1, 'innovation': 2, 'mapleridge': 1, 'qew': 1, 'niagara': 1, 'gadget': 1, 'course': 6, 'incident': 1, 'peritoengrafoscopia': 1, 'uk': 5, 'rochdale': 1, 'heywood': 1, 'weloveyoulouis': 1, 'windows10': 1, 'hope': 1, 'modestmouseremix': 1, 'truestory': 1, 'skh': 1, 'loveyouuuu': 1, 'aintsheperty': 1, 'mrrobinson': 1, 'thesteveharveyshow': 1, 'crush': 1, 'worstsummerjob': 4, 'edwing': 1, 'nikeplus': 2, 'ayekoradio': 1, 'netlabel': 1, 'electronicmusic': 1, 'ccmusic': 1, 'wine': 1, 'dc': 1, 'chicago': 1, 'bc': 1, 'freedom': 1, 'donthate': 1, 'bc19': 1, 'rewatchingthepilot': 1, 'teamscorpion': 1, 'cyclone': 1, 'camera': 1, 'art': 6, 'photography': 6, '0215': 1, 'hannaph': 2, 'vanuatu': 2, 'kurokobot': 1, 'comdev': 1, 'asia': 1, 'bangladesh': 2, 'programs': 1, 'komen': 1, 'rohingya': 6, 'kyee': 1, 'ootd': 1, 'doubleghats': 1, 'fitness': 2, 'ny35': 1, 'royals': 2, 'np': 5, 'pussy': 1, 'ass': 1, 'boobs': 1, 'asian': 1, 'nude': 1, 'glaucoma': 1, 'eye': 1, 'eyefacts': 1, 'jsunnews': 1, 'icd10': 1, 'queenswharf': 1, 'brisbane': 1, 'rockin': 3, 'artistsunited': 3, 'weather': 4, 'cawx': 2, 'fettilootch': 4, 'slanglucci': 4, 'govt': 1, 'ethical': 1, 'danger': 1, 'st': 1, 'nonprofit': 1, 'afc': 2, 'coyi': 1, 'iwasdisappointedby': 1, 'askcharley': 2, 'dead': 1, 'emmerdale': 9, 'summerfate': 5, 'papiichampoo': 1, 'cyprus': 1, 'mullah': 1, 'cecilthelion': 3, 'follow': 3, 'vaxshill': 1, 'vra50': 1, 'palermo': 1, 'shipwreck': 1, 'children': 1, 'deaths': 1, 'insas': 1, 'superfood': 1, 'physician': 1, 'cdcwhistleblower': 1, 'adiossuperbacterias': 1, 'nghlth': 1, 'plague': 1, 'health': 2, 'publichealth': 1, 'blackpool': 2, 'beclearoncancer': 2, 'seaworld': 1, 'opseaworld': 1, 'notrocketscience': 1, 'aerospace': 1, 'exec': 1, 'mh370': 7, 'sad': 1, 'tragedy': 1, 'innocent': 1, 'food': 1, 'fun': 2, 'kamindoz': 1, 'malaysia': 2, 'baking': 1, 'cakes': 1, 'floods': 3, 'legionstrackandfield': 1, 'king': 1, 'deluge': 2, 'dumuzid': 1, 'childsexabuse': 1, 'bible': 1, 'unfml': 1, 'gishwhes': 1, 'b2b': 1, 'b2bagency': 1, 'contentmarketing': 1, 'asae15': 1, 'assnchat': 1, 'meditationbymsg': 1, 'novalismi': 1, 'glimpses': 1, 'badotweet': 1, 'inspiration': 1, 'zionist': 4, 'terrorist': 4, 'manhood': 1, 'avigdorliberman': 1, 'susiya': 1, 'android': 1, 'androidgames': 1, 'gameinsight': 1, 'babri': 1, 'charminar': 1, 'telangana': 1, 'funtimes': 1, 'demolished': 1, 'patriots': 1, 'cantmakeitup': 1, 'patriotsnation': 1, 'backtoback': 1, 'chargedup': 1, 'media420': 1, 'papicongress': 1, 'bbsnews': 1, 'buffalo': 3, 'demolition': 2, 'workers': 1, 'halifax': 1, 'burnaby': 1, 'changefortheworse': 1, 'download': 1, 'watch': 1, 'movie': 1, 'gop': 3, 'potus': 1, 'isis': 12, 'wmata': 6, 'metro': 3, 'sms': 1, 'freesikhpoliticalprisnors': 1, 'washingtonpost': 2, 'india': 10, 'alllivesmatter': 2, 'tubestrike': 6, 'coya': 1, 'london': 1, 'donzilla': 1, 'trump2016': 1, 'adani': 1, 'modi': 2, 'kidscompany': 1, 'illustration': 1, 'subway': 1, 'writing': 1, 'identitytheft': 2, 'taxreturn': 1, 'cri': 1, 'robertwelch': 1, 'deepthoughts': 1, 'ndtv': 1, 'teamfollowback': 1, 'followback': 1, 'modiministry': 3, 'chicagoscanner': 1, 'indiatv': 1, 'indiannews': 2, 'topstories': 2, 'onthisday': 1, 'soundcloud': 6, 'alt': 1, 'electro': 1, 'rock': 1, 'comingsoon': 2, 'desolation': 1, 'theconspiracytheory': 1, 'newep': 1, 'free': 4, 'military': 6, 'thriller': 2, 'suspense': 1, 'amreading': 1, 'phoenix': 5, 'ariz': 1, 'listia': 1, 'orshow': 1, '4': 2, 'cliptv': 1, 'desolationofsmaug': 1, 'poze': 1, 'thehobbit': 1, 'ashes2ashes': 1, 'shantaeforsmash': 1, 'shantae': 1, 'shantaehalfgeniehero': 1, 'nintendo': 1, 'yiayplan': 1, 'luck': 1, 'destroy': 2, 'reggaeboyz': 1, 'copped': 1, 'beconfident': 1, 'streetjamzdotnet': 1, 'ashestoashes': 1, 'fn': 1, 'everydaynaija': 1, 'semasirtalks': 1, 'abomb': 1, 'bbc': 10, 'survived': 1, 'cnv': 1, 'hot': 31, 'teen': 1, 'porn': 3, 'milf': 1, 'gh': 1, 'takecare': 1, 'fly': 1, 'bored': 1, 'cats': 1, 'destruction': 1, 'badkitty': 1, 'thisiswhywecanthavenicethings': 2, 'russian': 3, 'putin': 1, 'thingsihate': 1, '1': 6, 'bancodeseries': 2, 'boulder': 1, 'jtw': 1, 'orapinforma': 1, 'hhbu': 1, 'fiya': 1, 'indie': 1, 'appy': 1, 'gujaratriot': 1, 'mumbairiot92': 1, 'chawalchorbjp': 1, 'losdelsonido': 2, 'ivanberroa': 2, 'rossbarton': 1, 'georgecole': 1, 'ashes2015': 1, 'latestnews': 3, 'cnbc': 3, 'cnn': 9, 'hungerarticles': 1, 'firstnations': 1, 'idlenomore': 1, 'cndpoli': 1, 'yyj': 1, 'thorium': 1, 'beyondthebomb': 1, 'newyear': 1, 'momneedscoffee': 1, 'asap': 1, 'iwontmakeit': 1, 'benediction': 1, 'sanelesstheory': 1, 'jakartapost': 1, 'mediterranean': 1, 'afterhaiyan': 1, 'haiyan': 1, 'yolandaph': 1, 'philippines': 3, 'livelihood': 1, 'disasterrecovery': 1, 'theneeds': 1, 'recipes': 1, 'blowltan': 1, 'metepec': 1, 'mexico': 1, 'nitclub': 1, 'm': 2, 'foxnews': 1, 'msgdoing111welfareworks': 1, 'scifi': 1, 'myanmar': 5, 'sittwe': 5, 'prison': 3, 'genocide': 8, 'strategicpatience': 5, 'syria': 3, 'displaced': 1, 'refugeesmatter': 1, 'nevada': 1, 'drought': 6, 'nv': 2, 'makewaterwork': 1, 'westerncanadadrought': 1, 'cloud': 1, 'iot': 1, 'weed': 1, 'droughtmonitor': 1, 'rain': 2, 'scwx': 2, 'macon': 1, 'warnerrobins': 1, 'dublin': 1, 'milledgeville': 1, 'gawx': 2, 'cadrought': 1, 'lakeisabella': 1, 'live': 1, 'allthekidneybeansandsorbet4misha': 1, 'yes': 2, 'gamergate': 3, 'promo': 1, 'dw': 1, 'ufo4ublogeurope': 1, 'libya': 5, 'alameda': 1, 'coke': 1, 'summer2k15': 1, 'icymi': 1, 'annoucement': 1, 'nashsnewvideo': 1, 'anxietyproblems': 1, 'islamic': 1, 'state': 1, 'brochure': 1, 'bomb': 1, 'duststorm': 1, 'cogxbox': 1, 'xboxone': 1, 'xbox': 1, 'idwx': 1, 'sismo': 10, 'earthquakenews': 1, '3novices': 1, 'shelli': 2, 'cs': 2, 'anchorage': 2, 'usgs': 5, 'earthtwerk': 1, 'scseestapreparando': 1, 'sm': 3, 'euroquake': 1, 'quake': 2, 'difficultpeople': 1, 'megaquake': 1, 'uglypeople': 1, 'pakistan': 6, 'borderlands': 1, 'borderlands2': 1, 'oocvg': 1, 'ftw': 1, 'red': 1, 'redblood': 1, 'videoclip': 1, 'columbus': 1, 'rowysolouisville': 1, 'southkorea': 1, 'tigers': 2, 'china': 3, 'saveti': 1, 'mumbailocals': 1, 'lessonforlife': 1, 'marinelines': 1, '37592': 1, 'archipelagowolves': 1, 'extinction': 1, 'standforwolves': 1, 'international': 2, 'drjustinmazur': 1, 'tookitlikeaman': 1, 'lovemydentist': 1, 'sore': 1, 'protectdenaliwolves': 2, 'fire': 4, 'firemen': 1, 'firetruck': 1, 'emergency': 5, 'rescue': 1, '911': 1, 'summertime': 1, 'sirens': 1, 'yyc': 10, 'abstorm': 9, 'retail': 1, 'nbc15': 1, 'biztip': 1, 'solar': 3, 'families': 1, 'autism': 1, 'specialneeds': 1, 'homeless': 1, 'cochrane': 1, 'nursing': 8, 'torrance': 1, 'olympia': 1, 'houston': 1, 'veterans': 3, 'followme': 1, 'rn': 1, 'henderson': 1, 'missionhills': 2, 'healthcare': 2, 'kodiak': 2, 'tarzana': 1, 'southline': 1, 'prophetmuhammad': 6, 'islam': 23, 'trafficalert': 1, 'literarycakes': 1, 'raheelsharif': 1, 'boycottbears': 1, 'tanzania': 1, 'ca': 2, 'ut': 1, 'co': 1, 'or': 1, '039': 2, 'tennews': 1, 'evacuate': 1, 'yemen': 1, 'evacuation': 1, 'abandoned': 1, 'fifa16': 2, 'whocares': 1, 'nazis': 1, 'murfreesboro': 1, 'walmart': 1, 'liveonk2': 2, 'koin6news': 3, 'miami': 3, 'atlanta': 3, 'casper': 3, 'manchesterlite': 1, 'sr14': 1, 'morevoices': 1, 'roosevelt': 1, 'calfires': 1, 'lolla': 1, 'trc': 1, 'reidlake': 1, 'nwt': 1, 'yzf': 1, 'feelingmanly': 1, 'nb': 1, 'hitting': 1, 'load': 1, 'photo': 3, 'hotnewscake': 1, 'pets': 1, 'dogs': 1, 'animals': 1, 'puppy': 2, 'medinah': 1, 'imkeepingmydayjob': 1, '17': 1, 'otrametlife': 4, '38745': 1, 'dating': 1, 'meet': 1, 'sex': 3, 'science': 5, 'life': 3, '16': 1, 'war': 2, 'atomicbomb': 1, 'cum': 1, 'hangout': 1, 'dcubecrafts': 1, 'greetingcards': 1, 'eyewitness': 1, 'ugc': 1, 'climatechange': 2, 'anarchy': 1, 'liveonkbak': 1, 'bokoharam': 1, 'bluebell': 1, 'iartg': 1, 'rwa': 1, 'tw4rw': 1, 'rrbc': 1, 'dynamix': 1, '9': 3, 'hopeinchrist': 1, 'gunfail': 1, 'nra': 1, 'crimes': 1, 'justice': 1, 'courts': 1, 'education': 1, 'econom': 1, 'hse': 1, 'saudi': 3, 'abha': 1, 'ggindependencmessage': 1, 'hiroshima70': 2, 'visionzero': 1, 'shipping': 1, 'logistics': 1, 'paranormal': 1, 'perrychat': 1, 'blackinamerica': 1, 'growingupblack': 2, 'choosegod': 1, 'restoringpaths': 1, 'thexfiles201days': 1, 'allah': 5, 'besttalkradio': 1, 'deltachildren': 1, 'instaquote': 1, 'quoteoftheday': 1, 'disney': 1, 'waltdisney': 1, 'shoes': 3, 'canonbringit': 1, 'canontattoo': 1, 'mn': 1, 'theresmorewherethatcamefrom': 1, 'lovefood': 1, 'euro': 1, 'dontexpectnothing': 1, 'july': 1, 'rfp': 1, 'reno': 1, '3': 2, 'prayforsaipan': 1, 'sigalert': 2, 'fireman': 1, 'filipino': 1, 'njturnpike': 2, 'lukebox': 1, 'charity': 1, 'run': 1, 'smarttek': 1, 'mpers': 1, 'safety': 1, 'gisuserpr': 1, 'geotech': 1, 'paramedic': 2, '999day': 1, 'tn': 1, 'luchaunderground': 2, 'sbnation': 1, 'flames': 1, 'portgassdk': 1, 'rubybot': 1, 'muaytai': 1, 'wantmyabsback': 1, 'strong': 1, 'cfc': 1, 'nagasaki': 3, 'floored4': 1, 'flattened': 1, 'muppet': 1, 'robertcalifornia': 1, 'thereisonlysex': 1, 'hail': 2, 'wx': 7, 'socialnews': 5, '452': 1, 'alwx': 1, 'grants': 1, 'funds': 1, 'wxky': 1, 'environment': 3, 'nature': 2, 'hunwx': 1, 'homeimprovement': 1, 'mmda': 1, 'laos': 1, 'ukfloods': 1, 'insubcontinent': 1, 'valleywx': 1, 'vietnam': 1, 'ocnj': 1, 'frvrgrateful': 1, 'writingtips': 1, 'farrakhan': 3, 'quote': 5, 'priceless': 2, 'jazz': 1, 'music': 2, 'worldvision': 1, 'paraguay': 1, 'dua': 1, 'typhoon': 1, 'routecomplex': 2, 'socal': 1, 'realhiphop': 1, 'naturaldisasters': 1, 'palmoil': 1, 'forest': 2, 'indonesia': 2, 'bcpoli': 1, 'canpoli': 1, 'vanpoli': 1, 'trees': 1, 'deep': 1, 'lake': 1, 'heartdisease': 1, 'straightfire': 1, 'goblue': 1, 'wrestleon': 1, 'youtube': 2, 'sirmixalot': 1, 'arwx': 3, 'wcw': 1, 'kotaweather': 2, 'yycstorm': 3, 'parkchat': 1, 'okwx': 7, 'mothernature': 1, 'hailstorm': 7, 'yycfringe': 1, 'killhard': 1, 'boston': 3, 'round2': 1, 'summer': 1, 'calgary': 3, 'crazyweather': 1, 'notgoingoutinthat': 1, 'alberta': 2, 'haildamage': 1, 'yycweather': 1, 'captureyyc': 1, 'sto': 1, 'carlilescanoelivery': 1, 'lovemyjob': 1, 'cowx': 1, 'jamaicaplain': 2, 'iamdowntown': 1, 'otratmetlife': 1, 'plannedparenthood': 1, 'lifestyle': 1, 'chelsea': 1, 'hazard': 1, 'wholeteam3': 1, 'wholesaleent': 1, 'taiwan': 2, 'sustainable': 1, 'foodscare': 3, 'offers2go': 3, 'nestleindia': 3, 'magginoodle': 3, 'ban': 3, 'humanconsumption': 3, 'what': 1, 'tribal': 1, 'dam': 1, 'gms': 1, 'pp15000266858': 1, 'pdx911': 2, 'psd': 1, 'special': 1, 'lawx': 1, 'squad': 1, 'revitup': 1, 'pizzarev': 1, 'jackson': 1, 'ms': 1, 'greatbritishbakeoff': 2, 'afterlife': 5, 'wealth': 3, 'forever': 3, 'hellfire': 4, 'reflect': 3, 'wod': 1, 'jagm': 1, 'tow': 1, 'humanrights': 1, 'mcgsecure': 1, 'sacramento': 1, 'fresno': 1, 'prebreak': 30, 'best': 30, '263chat': 1, 'twimbos': 1, 'flavorchargedtea': 1, 'auspol': 3, 'freeamirnow': 1, 'freeallfour': 1, 'hostages': 4, 'iran': 3, 'lh': 1, 'indiefilm': 1, 'terrorism': 11, 'africa': 6, 'ap': 3, 'ts': 3, 'nri': 3, 'trs': 3, 'tdp': 3, 'bjp': 3, 'aviationaddicts': 1, 'sinjar': 3, 'yazidis': 2, 'clip': 1, 'adult': 1, 'tube': 1, 'noirandeal': 1, 'tedcruz2016': 1, 'security': 2, 'yazidi': 3, 'is': 1, 'hurricane': 3, 'guillermo': 3, 'meteoearth': 2, 'snowden': 1, 'kick': 2, 'yug': 1, 'suryaray': 1, 'wakeupflorida': 1, 'floridians': 1, 'trophyhunt': 1, '8392': 1, 'renew911health': 2, 'golf': 1, 'riders': 1, 'nj36': 1, 'disabledveterans': 1, 'thepartyofmeanness': 1, 'ns': 1, 'chinadotcom': 1, 'sports': 1, 'arsenal': 1, 'usmnt': 1, 'poster': 1, 'ergo': 1, 'cuff': 1, 'injury': 1, 'pft': 1, 'nyg': 1, 'nfl': 1, 'playoffs': 1, 'cowboys': 2, 'wcvb': 1, 'tms7': 1, 'worm': 1, 'bangladeshaffected': 1, 'bangladeshflood': 1, 'mainstage': 1, 'kro': 1, 'sinkhole': 2, 'landslide': 5, 'emsc': 1, 'q99': 1, 'tory': 1, 'g': 1, '89x': 1, 'flashflood': 1, '365disasters': 1, 'skardu': 1, 'pantherattack': 5, 'kidsthesedays': 1, 'e': 1, 'baby': 1, 'swim': 1, 'parents': 1, 'waterboarding': 1, 'lava': 1, 'shakeology': 1, '034': 1, 'lightning': 2, '629': 1, 'pics': 2, 'scichat': 1, 'actionmoviestaughtus': 1, 'wimbledon': 1, 'faroe': 1, 'atombomb': 1, 'faroeislands': 3, 'debatequestionswewanttohear': 2, 'wahhabism': 1, 'antioch': 6, 'gunsense': 3, 'gfz': 1, 'theatershooting': 1, 'movietheatre': 1, '615': 1, 'grindhouse': 1, 'texaschainsawmassacre': 1, 'ezidigenocide': 1, 'rememberrabaa': 1, 'obama': 2, 'clinton': 1, 'bush': 1, 'abc': 2, 'cbs': 1, 'wsj': 1, 'wpo': 1, 'becarefulharry': 1, 'giveaway': 1, '7': 4, 'ramag': 4, 'models': 4, 'mayhem': 4, '4playthursdays': 2, 'masterchef': 1, 'nosurrender': 2, 'ty': 1, 'pitchwars': 1, 'blessed': 2, 'drum': 1, 'heavy': 1, 'nasty': 1, 'tangletalk': 1, 'amazon': 2, '140': 1, 'ushanka': 2, 'winter': 3, 'cossack': 1, 'hillaryclinton': 1, 'author': 1, 'interview': 1, 'gravity': 1, 'mom': 1, 'tomclancy': 1, 'mudslide': 4, 'britishbakeoff': 1, 'paulhollywood': 1, 'icelandreview': 1, 'vaginaorcake': 1, 'bakeofffriends': 2, 'gbbo2015': 1, 'arkansas': 1, 'nola': 1, 'askconnor': 1, 'fukushima': 9, 'nonucleariran': 1, 'badirandeal': 1, 'chernobyl': 2, 'tepco': 2, 'natural': 1, 'japanjapan': 1, 'nuclear': 9, 'anonymous': 1, 'nytimes': 3, 'jishin': 1, 'minamisoma': 1, 'irannucleardeal': 1, 'refugees': 5, 'afp': 1, 'guardian': 2, 'wps': 1, 'global': 1, 'failure': 1, 'annonymous': 1, 'ge': 1, 'robot': 1, 'navy': 1, 'japanese': 1, 'winechat': 1, 'subs': 1, 'sizewell': 1, 'richhomeydon': 1, 'swag': 1, 'likes': 1, 'instagramers': 1, 'kneelbot': 1, 'lol': 2, 'jonvoyage': 2, 'gym': 1, 'gymflow': 1, 'gymtime': 1, 'team': 1, 'assassins': 1, 'michelebachman': 2, 'globalwarming': 2, 'zimmerman': 1, 'byebyesoundcloud': 1, 'ww3': 1, 'demonization': 1, 'teamhennessy': 1, 'nj': 1, 'slab': 1, 'labour': 1, 'labourleadership': 1, 'obliteration': 1, 'homosexuality': 1, 'management': 1, 'leadership': 1, 'smallbiz': 1, 'startup': 2, 'sydtraffic': 1, 'trafficnetwork': 1, 'ksbynews': 1, 'osi2016': 1, 'losangelestimes': 1, 'latimes': 1, 'kamloops': 1, 'legionnairesdisease': 1, 'muhamadjabal': 1, 'sebee': 1, 'losangeles': 1, 'check': 1, 'pandemonium': 2, 'copalibertadores': 1, 'bennycapricon': 1, 'shestooyoung': 1, 'cumshot': 1, 'porno': 1, 'justaguess': 1, 'deals': 1, 'autismawareness': 1, 'troubleonmymind': 1, 'natsnation': 1, 'dream': 1, 'magic': 1, 'linden': 1, 'hs2': 1, 'romanticsuspense': 1, 'breaking411': 1, 'smartnews': 1, 'bayonets': 1, 'evilempire': 1, 'jadehelm15': 1, 'pp15000266818': 1, 'shooting': 1, 'police': 1, '8217': 1, 'helpme': 1, 'facebook': 1, 'strategy': 1, 'onlinecommunities': 3, 'reddit': 4, 'amageddon': 2, 'freespeech': 2, 'technews': 1, 'puledo': 1, 'content': 1, 'policy': 1, 'bangalore': 1, 'startups': 1, 'in': 1, 'wired': 1, 'cc': 1, 'bluehand': 1, 'sejorg': 1, 'radiation': 2, 'procedures': 1, '06': 1, '24': 1, '09': 1, 'iwk': 1, 'gloucester': 1, 'capeann': 1, 'seagulls': 1, 'triciaoneill': 1, 'triciaoneillphoto': 1, 'lucky': 1, 'newrelease': 1, 'people': 1, 'killed': 1, 'rainstorm': 1, 'italian': 1, 'alps': 1, 'castle': 1, 'deadgrassandflowers': 1, 'tafs': 1, 'fb100': 1, 'sandiego': 4, 'gn': 1, 'northerncalifornia': 1, 'zippednews': 2, 'dutton': 2, 'abbott': 1, 'lnp': 1, 'choppergate': 1, 'bronwynbishop': 1, 'retweet': 1, 'christianvalues': 1, 'syrian': 1, 'wedding': 1, 'age': 1, 'presser': 1, 'kelbytomlinson': 1, 'animalrescue': 7, 'newbeginningsanimalrescue': 1, 'ppact': 1, 'psychrewatch': 1, 'summervibes': 1, 'pitmix': 1, 'rescued': 1, 'brixton': 1, 'banksy': 1, 'happy': 1, 'mybabies': 1, 'skyrim': 1, 'enkelbiljett': 1, 'menolippu': 1, 'c4news': 2, 'childhooddefined': 1, 'roddypiperautos': 1, 'riot': 3, 'blowmandyup': 3, 'menswear': 1, 'urbanfashion': 1, 'hyperbole': 1, 'saintsfc': 1, 'rio2016': 1, 'loveislove': 1, 'baltimore': 2, 'rioting': 2, 'yahistorical': 2, 'undergroundrailraod': 2, '163': 1, 'bhramabull': 1, 'nffc': 1, 'don': 1, 'uknews': 1, 'crazyideascollege': 1, '360wisenews': 4, 'forbes': 1, 'europe': 1, 'forbesasia': 1, 'p2': 1, 'tnn': 1, 'roimentor': 1, 'yycwalks': 1, 'mta': 1, 'sorrybutitstrue': 1, 'minions': 1, 'zaatari': 1, 'cedarglade2015': 1, 'fierce': 1, 'addtexastonext1dtour': 1, 'funnydadcoach': 1, 'idols': 1, '22days': 1, 'wdym': 1, 'nochilllukehammings': 1, 'thankyou': 1, 'gabon': 3, 'somalia': 5, 'oil': 3, 'gas': 1, 'cyber': 1, 'ey': 1, 'jap': 4, 'maps': 1, 'kml': 1, 'seismic': 1, 'offshore': 1, 'oilandgas': 1, 'gif': 1, 'funny': 2, 'comedy': 1, 'ifunny': 1, 'image': 1, 'occasion2b': 1, 'fdny': 1, 'brooklyn': 1, 'yonews': 2, 'accidentalprophecy': 1, 'piling': 1, 'algeria': 1, 'lomasvisto': 1, 'cadenadeseguidores': 1, 'mtsalert': 1, 'priorities': 1, 'tna': 1, 'destinationimpact': 1, 'goodbye': 1, 'sinking': 1, 'twins': 1, 'tribe': 1, 'wishlist': 1, 'horror': 1, 'liveonstreamate': 1, 'askh3cz': 1, 'millcityio': 1, '20150613': 1, 'sirensicebreaker': 1, 'abc7eyewitness': 1, 'hometownglory': 1, 'painting': 1, 'aoms': 3, 'ibooklove': 3, 'bookboost': 3, 'southdowns': 2, 'hampshire': 2, 'tree': 2, 'treeporn': 2, 'growingupincolorado': 1, 'amssummer': 1, 'treescape': 1, 'lakeeffect': 1, 'snowstorm': 1, 'rome': 1, 'gamefeed': 1, 'videogame': 1, 'property': 1, 'eventspalmbeach': 1, 'sportinggoods': 1, 'twcnews': 1, 'ncwx': 1, 'nasa': 1, 'stretcher': 1, 'foot': 1, 'adjust': 1, 'shape': 1, 'shoe': 1, 'preventative': 1, 'cts': 1, 'stopevictions': 1, 'bestnaijamade': 6, 'homs': 1, 'grupdates': 1, 'mercados': 2, 'tripoli': 1, 'saudiarabia': 1, 'deai': 1, 'premonitions': 2, 'kppolice': 1, 'kuwait': 1, 'investing': 1, 'money': 2, 'trading': 2, 'forex': 2, 'gold': 1, 'silver': 1, 'tootrue': 1, 'thomassmonson': 1, 'lds': 1, 'mormon': 1, 'books': 2, 'teamsurvivors': 1, 'zombiefunrun2014': 1, 'autoinsurance': 2, 'healthinsurance': 1, 'driverlesscars': 1, 'markets': 1, 'holomua': 1, 'makinmemories': 1, 'otd': 1, 'chronicillness': 1, 'mylifestory': 1, 'nuclearweapons': 1, 'coppednews': 1, 'lungcancer': 1, 'nuke': 1, 'shanghai': 1, 'cubs': 1, 'truth': 7, 'god': 7, 'quran': 7, 'lies': 7, 'politics': 2, 'newsarama': 1, 'anti': 1, 'act': 1, 'metrofmtalk': 3, 'elections': 1, 'achedin': 1, 'bethlehem': 1, 'palestinians': 2, 'udhampuragain': 1, 'traitor': 1, 'keepingtheviginaclean': 1, 'dfir': 1, 'threatintel': 1, 'drones': 1, 'privacy': 1, 'bhusa': 1, 'playingnow': 1, 'bloodbound': 1, 'gander': 1, 'nlwx': 1, 'joestrong': 1, 'gokitgo': 1, 'thunder': 4, 'soothmyslumber': 1, 'watermeloann': 1, 'populardemand': 1, 'she': 1, 'back': 1, 'oklahoma': 1, 'nba': 1, 'durant': 1, 'usnwsgov': 3, 'skywarn': 1, 'thunderstorm': 3, 'ar': 2, 'nc': 2, 'ok': 2, 'vivaargentina': 1, 'lightningstrike': 1, 'helsinki': 1, 'tornadogiveaway': 1, 'thebookclub': 1, 'pod': 1, 'quotes': 1, 'jamaica': 1, 'chile': 2, 'newsdict': 1, 'nz': 1, 'hugomatz': 1, 'nissannews': 1, 'ptsdchat': 2, 'gravitychat': 1, 'marijuana': 2, 'ptsd': 1, 'hempoil': 1, 'cannabis': 1, 'childhood': 1, 'trauma': 1, 'foamed': 1, 'foamcc': 1, 'survivors': 1, 'oneborn': 1, 'traumatised': 2, 'snapchatselfie': 1, 'wrongperson': 1, 'varagesale': 1, 'thebargain': 1, 'fartanxiety': 1, 'prez': 1, 'nopower': 1, 'thanku': 3, 'bbshelli': 1, 'banking': 1, 'bitcoing': 1, 'blockchain': 1, 'sing': 2, 'tsunami': 2, 'computer': 2, 'oktxduo': 1, 'iheartradio': 1, 'toosoon': 1, 'toronto': 2, 'twisterlovesshania': 1, 'breaking144': 1, 'acenewsdesk': 1, 'abcnews': 1, 'thegame': 2, 'elderly': 1, 'companionship': 1, 'care': 1, 'chester': 1, 'sydney': 1, 'aus': 1, 'ferguson': 1, 'orcot': 1, 'orpol': 1, 'travel': 1, 'stormchase': 2, 'amsterdam': 2, 'badchoices': 1, 'bantrophyhunting': 1, 'aogashima': 1, 'volcano': 2, 'perspective': 1, 'csismica': 1, 'cityofmemphis': 1, 'littlewomenla': 1, 'worldwatchesferguson': 1, 'professional': 1, 'help': 1, 'terror': 1, 'cameroon': 1, 'whitehouse': 1, 'es': 1, 'fr': 1, 'nigeria': 1, 'de': 1, 'au': 1, 'jp': 1, 'insanelimits': 1, 'plugin': 1, 'mandela': 1, 'ineedexposure': 1, 'uswarcrimes': 1, 'ojoubot': 1, 'gaming': 1, 'tv': 1, 'battlefield': 1, 'billings': 2, 'rapidcity': 2, 'cheyenne': 2, 'bookmobile': 1, 'libraries': 1, 'reading': 1, 'bigbrother': 1, 'ch4': 1, 'finsup': 1, 'mantra': 1, 'whirlwind': 2, 'remymarcel': 1, 'frofrofro': 1, 'drained': 1, 'titania': 1, 'cantwaittoplayinminneapolis': 1, 'picthis': 1, 'snooker': 1, 'fires': 1, 'wild': 1, 'sanonofre': 1, 'foxdebatequestions': 1, 'profittothepeople': 1, 'fingerrockfire': 1, 'azwx': 1, 'idfire': 4, 'vail': 1, 'smem': 1, 'firenews': 1, 'wa': 1, 'utfire': 1, 'lancaster': 1, 'helicopter': 1, 'firefighting': 1, 'oregon': 1, 'easternoregon': 1, 'calwildfires': 1, 'galvnews': 1, 'nook': 1, 'thebachelorette': 1, 'wzbt': 1, 'txlege': 1, 'twia': 1, 'trump': 2, 'hardball': 1, 'windstorm': 1, 'besafe': 1, 'datingtips': 1, 'goodreads': 1, 'nomorehandouts': 1, 'kindlecountdown': 1, 'sale': 2, 'mfrwauthor': 1, 'mgtab': 1, 'an247': 1, 'client': 1, 'kerricktrial': 5, 'jonathanferrell': 2, 'kashmir': 2, 'endoccupation': 1, 'endconflict': 1, 'freekashmir': 1, 'kashmirconflict': 1, 'twcnewsclt': 1, 'bishopfred': 1, 'neverforget': 1, 'artectura': 1, 'pop2015': 1, 'n': 1, 'playlist': 1, 'shoalstraffic': 1, 'najibrazak': 1, 'malaysiaairlines': 1, 'thatswhatfriendsarefor': 1, 'residualincome': 1, 'mlm': 1, 'wrecked': 1, 'topnews': 1, 'whoops': 1, 'fx': 1, 'explodingkittens': 1, 'tnwx': 1, 'nws': 1, 'bathandnortheastsomerset': 1, 'la': 1}\n"
     ]
    }
   ],
   "source": [
    "# extract hash tags \n",
    "def is_alphanumerical(letter: str) -> bool:\n",
    "    ans = False\n",
    "    is_capital_letter = (65 <= ord(letter) and ord(letter) <= 90)\n",
    "    is_minor_letter   = (97 <= ord(letter) and ord(letter) <= 122)\n",
    "    is_digit          = (48 <= ord(letter) and ord(letter) <= 57)\n",
    "    \n",
    "    if is_capital_letter or is_minor_letter or is_digit:\n",
    "        ans = True \n",
    "    \n",
    "    return ans\n",
    "\n",
    "def is_alphabetical(letter: str) -> bool: \n",
    "    return ('a' <= letter and letter <= 'z')\n",
    "\n",
    "def extract_hash_tags(data) -> dict:\n",
    "    hashtags = {}\n",
    "    for index, row in data.iterrows(): \n",
    "        sentence = row['text']\n",
    "        word = ''\n",
    "        flag = False \n",
    "        for c in sentence:\n",
    "            if flag and is_alphanumerical(c): \n",
    "                word = word + c\n",
    "                \n",
    "            if flag and not(is_alphanumerical(c)):\n",
    "                word = word.lower()\n",
    "                if word not in hashtags:\n",
    "                    hashtags[word] = 1\n",
    "                else:\n",
    "                    hashtags[word] += 1\n",
    "                \n",
    "                word = ''\n",
    "                flag = False\n",
    "            \n",
    "            if c == '#':\n",
    "                flag = True\n",
    "                continue  \n",
    "        \n",
    "        if word != '':\n",
    "            word = word.lower()\n",
    "            if word not in hashtags:\n",
    "                hashtags[word] = 1\n",
    "            else:\n",
    "                hashtags[word] += 1\n",
    "    return hashtags\n",
    "\n",
    "hashtags = extract_hash_tags(train)\n",
    "print(\"the number of hashtags is : \", len(hashtags))\n",
    "print(hashtags)"
   ]
  },
  {
   "cell_type": "code",
   "execution_count": 397,
   "id": "2c298825",
   "metadata": {},
   "outputs": [
    {
     "data": {
      "text/plain": [
       "['votejkt48id',\n",
       " 'g90',\n",
       " 'fant4stic',\n",
       " 'gilbert23',\n",
       " '1008pla',\n",
       " '1008planet',\n",
       " '2a',\n",
       " '5sosfam',\n",
       " '2minutemix',\n",
       " '7newsadl',\n",
       " '171',\n",
       " '124',\n",
       " 'du19',\n",
       " 'ww1',\n",
       " 'coast2coastdjs',\n",
       " '2fast2furious',\n",
       " 'wbc2015',\n",
       " 'elxn42',\n",
       " 'tweet4taiji',\n",
       " 'bb17',\n",
       " '9973',\n",
       " 'moving2k15',\n",
       " 'norge2040',\n",
       " 'setting4success',\n",
       " '9newsmornings',\n",
       " 'tweetlikeitsseptember11th2001',\n",
       " 'nh1news',\n",
       " '2015',\n",
       " 'homealone2',\n",
       " 'film4',\n",
       " 'usar2015',\n",
       " 'usar15',\n",
       " '6',\n",
       " 'roh3',\n",
       " 'alrasyid448iturasya',\n",
       " 'roh3smantibatam',\n",
       " 'isea2015',\n",
       " 'wattys2015',\n",
       " 'ihave44episodesofgg',\n",
       " 'hwy401',\n",
       " 'windows10',\n",
       " 'bc19',\n",
       " '0215',\n",
       " 'ny35',\n",
       " 'icd10',\n",
       " 'vra50',\n",
       " 'mh370',\n",
       " 'b2b',\n",
       " 'b2bagency',\n",
       " 'asae15',\n",
       " 'media420',\n",
       " 'trump2016',\n",
       " '4',\n",
       " 'ashes2ashes',\n",
       " '1',\n",
       " 'mumbairiot92',\n",
       " 'ashes2015',\n",
       " 'msgdoing111welfareworks',\n",
       " 'allthekidneybeansandsorbet4misha',\n",
       " 'ufo4ublogeurope',\n",
       " 'summer2k15',\n",
       " '3novices',\n",
       " 'borderlands2',\n",
       " '37592',\n",
       " '911',\n",
       " 'nbc15',\n",
       " '039',\n",
       " 'fifa16',\n",
       " 'liveonk2',\n",
       " 'koin6news',\n",
       " 'sr14',\n",
       " '17',\n",
       " '38745',\n",
       " '16',\n",
       " 'tw4rw',\n",
       " '9',\n",
       " 'hiroshima70',\n",
       " 'thexfiles201days',\n",
       " '3',\n",
       " '999day',\n",
       " 'floored4',\n",
       " '452',\n",
       " 'round2',\n",
       " 'wholeteam3',\n",
       " 'offers2go',\n",
       " 'pp15000266858',\n",
       " 'pdx911',\n",
       " '263chat',\n",
       " 'tedcruz2016',\n",
       " '8392',\n",
       " 'renew911health',\n",
       " 'nj36',\n",
       " 'tms7',\n",
       " 'q99',\n",
       " '89x',\n",
       " '365disasters',\n",
       " '034',\n",
       " '629',\n",
       " '615',\n",
       " '7']"
      ]
     },
     "execution_count": 397,
     "metadata": {},
     "output_type": "execute_result"
    }
   ],
   "source": [
    "# analyse if digits are important for our analysis or not \n",
    "keys_with_digits = []\n",
    "for key, value in hashtags.items():\n",
    "    have_digit = False; \n",
    "    for c in key: \n",
    "        have_digit = have_digit or (48 <= ord(c) and ord(c) <= 57)\n",
    "    \n",
    "    if have_digit:\n",
    "        keys_with_digits.append(key)\n",
    "        \n",
    "keys_with_digits[:100] # as we can observe, digits azre used for model numbering, date/time of event or even as typo - information that is not relevant for our classification"
   ]
  },
  {
   "cell_type": "code",
   "execution_count": 398,
   "id": "13e361fd",
   "metadata": {},
   "outputs": [
    {
     "name": "stdout",
     "output_type": "stream",
     "text": [
      "the word = earthquake has freq of 19\n",
      "the word = nowplaying has freq of 23\n",
      "the word = wisdomwed has freq of 1\n",
      "the word = pilot has freq of 1\n",
      "the word = az has freq of 1\n",
      "the word = startrek has freq of 1\n",
      "the word = beyhive has freq of 8\n",
      "the word = newsadl has freq of 1\n",
      "the word = hockey has freq of 1\n",
      "the word = mobile has freq of 1\n",
      "the word = artisteoftheweekfact has freq of 1\n",
      "the word = stopharper has freq of 1\n",
      "the word = thisdayinhistory has freq of 1\n",
      "the word = dagens has freq of 1\n",
      "the word = ashes has freq of 2\n",
      "the word = history has freq of 1\n",
      "the word = pbs has freq of 1\n",
      "the word = borrowers has freq of 1\n",
      "the word = catastrophic has freq of 1\n",
      "the word = nieuws has freq of 1\n",
      "the word = teenfiction has freq of 1\n",
      "the word = gadget has freq of 1\n",
      "the word = wine has freq of 1\n",
      "the word = fitness has freq of 2\n",
      "the word = st has freq of 1\n",
      "the word = nghlth has freq of 1\n",
      "the word = dumuzid has freq of 1\n",
      "the word = telangana has freq of 1\n",
      "the word = sms has freq of 1\n",
      "the word = chicagoscanner has freq of 1\n",
      "the word = thehobbit has freq of 1\n",
      "the word = gh has freq of 1\n",
      "the word = georgecole has freq of 1\n",
      "the word = disasterrecovery has freq of 1\n",
      "the word = iot has freq of 1\n",
      "the word = nashsnewvideo has freq of 1\n",
      "the word = uglypeople has freq of 1\n",
      "the word = sore has freq of 1\n",
      "the word = followme has freq of 1\n",
      "the word = whocares has freq of 1\n",
      "the word = pets has freq of 1\n",
      "the word = iartg has freq of 1\n",
      "the word = choosegod has freq of 1\n",
      "the word = njturnpike has freq of 2\n",
      "the word = robertcalifornia has freq of 1\n",
      "the word = jazz has freq of 1\n",
      "the word = arwx has freq of 3\n",
      "the word = iamdowntown has freq of 1\n",
      "the word = squad has freq of 1\n",
      "the word = freeallfour has freq of 1\n",
      "the word = guillermo has freq of 3\n",
      "the word = nyg has freq of 1\n",
      "the word = swim has freq of 1\n",
      "the word = clinton has freq of 1\n",
      "the word = hillaryclinton has freq of 1\n",
      "the word = nytimes has freq of 3\n",
      "the word = gym has freq of 1\n",
      "the word = osi has freq of 1\n",
      "the word = breaking has freq of 1\n",
      "the word = sejorg has freq of 1\n",
      "the word = abbott has freq of 1\n",
      "the word = cnews has freq of 2\n",
      "the word = tnn has freq of 1\n",
      "the word = seismic has freq of 1\n",
      "the word = wishlist has freq of 1\n",
      "the word = eventspalmbeach has freq of 1\n",
      "the word = trading has freq of 2\n",
      "the word = cubs has freq of 1\n",
      "the word = nlwx has freq of 1\n",
      "the word = jamaica has freq of 1\n",
      "the word = nopower has freq of 1\n",
      "the word = orcot has freq of 1\n",
      "the word = insanelimits has freq of 1\n",
      "the word = picthis has freq of 1\n",
      "the word = txlege has freq of 1\n",
      "the word = artectura has freq of 1\n",
      "the size of our new hashtags is :  1879\n"
     ]
    }
   ],
   "source": [
    "# delete digits from hashtags \n",
    "important_hashtags = {}\n",
    "counter = 0 \n",
    "for key, value in hashtags.items():\n",
    "    word = ''\n",
    "    for c in key: \n",
    "        is_digit = (48 <= ord(c) and ord(c) <= 57)\n",
    "        if is_digit:\n",
    "            continue\n",
    "        word = word + c \n",
    "    if (counter % 25 == 0): print(f\"the word = {word} has freq of {value}\")\n",
    "    if word == '': \n",
    "        continue \n",
    "    \n",
    "    if word not in important_hashtags:\n",
    "        important_hashtags[word] = value\n",
    "    else:\n",
    "        important_hashtags[word] += value\n",
    "    counter += 1\n",
    "print(\"the size of our new hashtags is : \", len(important_hashtags))"
   ]
  },
  {
   "cell_type": "code",
   "execution_count": 399,
   "id": "43444e02",
   "metadata": {},
   "outputs": [
    {
     "name": "stdout",
     "output_type": "stream",
     "text": [
      "{'earthquake': 19, 'wildfires': 5, 'alaska': 2, 'rockyfire': 4, 'cafire': 2, 'flood': 4, 'disaster': 8, 'flooding': 4, 'raining': 1, 'florida': 2, 'tampabay': 1, 'tampa': 2, 'we': 2, 'breaking': 11, 'metal': 1, 'rt': 10, 'africanbaze': 1, 'mufc': 2, 'bridgetown': 1, 'nsfw': 4, 'kurds': 1, 'diyala': 1, 'california': 5, 'climate': 2, 'energy': 1, 'nowplaying': 23, 'edm': 8, 'nashvilletraffic': 1, 'santaclara': 1, 'bayarea': 1, 'traffic': 3, 'personalinjury': 1, 'solicitor': 1, 'otleyhour': 1, 'stlouis': 1, 'caraccidentlawyer': 1, 'truckcrash': 1, 'fortworth': 1, 'ashville': 1, 'manchester': 4, 'hagerstown': 1, 'whag': 1, 'bahrain': 1, 'arrestpastornganga': 2, 'dubstep': 7, 'trapmusic': 7, 'dnb': 8, 'dance': 7, 'ices': 7, 'growingupspoiled': 1, 'wisdomwed': 1, 'lifehacks': 1, 'silverwood': 1, 'aftershock': 1, 'book': 1, 'now': 1, 'wdyouth': 1, 'biblestudy': 1, 'news': 76, 'horrible': 1, 'accident': 4, 'watchthevideo': 1, 'kca': 4, 'votejktid': 4, 'rip': 2, 'binladen': 1, 'mlb': 3, 'man': 1, 'airport': 1, 'airplane': 3, 'aircraft': 2, 'aeroplane': 1, 'runway': 1, 'freaky': 1, 'crash': 2, 'pilot': 1, 'death': 1, 'carfest': 1, 'omg': 1, 'jetengine': 1, 'turbojet': 1, 'boing': 1, 'g': 2, 'rodkiai': 1, 'emsne': 1, 'yugvani': 3, 'justsaying': 1, 'randomthought': 1, 'til': 3, 'dna': 1, 'ems': 4, 'paramedics': 1, 'ambulance': 1, 'reuters': 3, 'worldnews': 9, 'mets': 4, 'fantasticfour': 2, 'fantstic': 1, 'lgm': 1, 'gilbert': 3, 'az': 1, 'wildhorses': 2, 'tantonationalforest': 1, 'saltriverwildhorses': 1, 'sciencefiction': 1, 'internetradio': 1, 'collegeradi': 1, 'warmbodies': 1, 'etcpb': 1, 'storm': 2, 'apocalypse': 3, 'pbban': 4, 'doublecups': 2, 'armageddon': 6, 'love': 4, 'truelove': 2, 'romance': 2, 'voodoo': 2, 'seduction': 2, 'astrology': 2, 'rtrrt': 2, 'lotz': 2, 'pla': 1, 'eonlinechat': 1, 'planet': 1, 'startrek': 1, 'tos': 1, 'entertainment': 2, 'brucewillis': 1, 'dvd': 2, 'ebay': 1, 'auction': 2, 'preppers': 1, 'doomsday': 1, 'shtf': 1, 'preppertalk': 1, 'survival': 1, 'a': 1, 'prepper': 1, 'ultimalucha': 3, 'christians': 1, 'israel': 3, 'cufi': 1, 'us': 7, 'preseasonworkouts': 1, 'interestraterise': 1, 'brics': 1, 'roberts': 1, 'russia': 3, 'thereal': 1, 'beyhive': 8, 'directioners': 9, 'sosfam': 2, 'queens': 1, 'fanarmyfaceoff': 1, 'indiakomuntorjawabdo': 1, 'mtvsummerstar': 1, 'videoveranomtv': 2, 'mtvhottest': 7, 'newsintweets': 3, 'lgbt': 5, 'kisii': 2, 'countynews': 2, 'lesbian': 1, 'cbcto': 1, 'vegetarian': 1, 'vegan': 1, 'govegan': 1, 'uniteblue': 1, 'arsonist': 1, 'headlines': 1, 'nightbeat': 1, 'minutemix': 1, 'spotlight': 1, 'wniagospel': 1, 'newsadl': 1, 'sanfrancisco': 1, 'newyork': 5, 'nativehuman': 1, 'myreligion': 1, 'tbt': 5, 'udhampur': 2, 'mumbai': 5, 'allthenews': 1, 'palestine': 3, 'volleyball': 1, 'ableg': 1, 'cdnpoli': 1, 'nwo': 1, 'pugprobs': 1, 'pt': 2, 'robotcoingame': 1, 'bitcoin': 2, 'freebitcoin': 1, 'welovela': 1, 'nhlducks': 1, 'sportsroadhouse': 1, 'colorado': 2, 'avalanche': 4, 'nhl': 2, 'hockey': 1, 'weddinghour': 1, 'coloradoavalanche': 1, 'entretenimento': 1, 'video': 4, 'bts': 1, 'nowplay': 1, 'listen': 4, 'radio': 4, 'tb': 1, 'throwback': 1, 'sfgiants': 1, 'du': 1, 'warcraft': 1, 'lonepine': 1, 'gallipoli': 1, 'ww': 2, 'tcot': 8, 'frontpage': 3, 'bioterror': 3, 'rickperry': 3, 'gopdebate': 3, 'world': 11, 'phone': 2, 'apple': 1, 'mobile': 1, 'orchardalley': 1, 'les': 1, 'nyc': 3, 'gardens': 1, 'breakingnews': 4, 'trucking': 1, 'fedex': 1, 'anthrax': 1, 'bioterrorism': 4, 'virus': 1, 'infectiousdiseases': 1, 'pathogen': 1, 'infectious': 1, 'ebola': 3, 'digitalhealth': 1, 'hcsm': 1, 'irandeal': 9, 'glanders': 1, 'raisinfingers': 1, 'family': 1, 'cleveland': 1, 'standup': 1, 'thisispublichealth': 1, 'socialmedia': 2, 'artisteoftheweekfact': 1, 'conversations': 1, 'coastcoastdjs': 1, 'jiwonle': 1, 'hiphop': 2, 'clubbanger': 1, 'weddings': 1, 'listenlive': 2, 'stoponesounds': 1, 'airwaves': 1, 'hinatobot': 1, 'escorts': 1, 'gfe': 1, 'dubai': 1, 'arizona': 2, 'realestate': 1, 'oomf': 1, 'fastfurious': 1, 'sun': 1, 'earth': 1, 'catfishmtv': 1, 'wbc': 1, 'catfish': 1, 'harperanetflixshow': 1, 'elxn': 1, 'stopharper': 1, 'doping': 1, 'zippoline': 1, 'moveit': 1, 'cle': 1, 'palestinian': 2, 'refugee': 1, 'israeli': 1, 'tweettaiji': 1, 'overwatch': 1, 'lwb': 1, 'kindle': 6, 'tattoo': 1, 'speakingfromexperience': 1, 'decisionsondecisions': 1, 'rolandonabeats': 1, 'win': 1, 'bbloggers': 1, 'stephenking': 1, 'thedarktower': 1, 'insomnia': 1, 'boxing': 1, 'bloodymonday': 1, 'tvshowtime': 1, 'mystery': 2, 'thisdayinhistory': 1, 'musicadvisory': 1, 'bb': 6, 'givebackkalinwhiteaccount': 1, 'piperwearsthepants': 1, 'charmed': 1, 'republicans': 1, 'handbag': 8, 'womens': 6, 'fashion': 9, 'style': 2, 'trollingtilmeekdiss': 1, 'vuzuhustle': 1, 'ovofest': 2, 'ziphimup': 1, 'bestseller': 1, 'concert': 1, 'movingk': 1, 'expertwhiner': 1, 'cutekitten': 1, 'catsofinstagram': 1, 'summerinsweden': 1, 'katt': 1, 'katterp': 1, 'dumle': 1, 'dagens': 1, 'norge': 1, 'enolagay': 1, 'hiroshima': 24, 'whatcanthedo': 1, 'bluejays': 4, 'arts': 3, 'elephantintheroom': 1, 'turkish': 2, 'bannukes': 1, 'date': 1, 'africansinsf': 1, 'beyondgps': 1, 'bombed': 1, 'banthebomb': 1, 'canada': 2, 'settingsuccess': 1, 'smallbusiness': 1, 'entrepreneur': 2, 'australia': 2, 'japan': 11, 'pearlharbor': 1, 'generalnews': 2, 'oped': 2, 'cricket': 1, 'ashes': 3, 'collapse': 1, 'traintragedy': 1, 'engvaus': 2, 'computers': 1, 'gadgets': 2, 'slingnews': 1, 'usa': 6, 'sustainability': 1, 'blacklivesmatter': 3, 'newsmornings': 1, 'respect': 1, 'infosec': 2, 'gbbo': 19, 'wildfire': 8, 'thestrain': 1, 'tweetlikeitsseptemberth': 2, 'kenya': 1, 'langata': 1, 'albany': 1, 'ny': 2, 'ppsellsbabyparts': 1, 'rdg': 1, 'nhnews': 1, 'montgomery': 1, 'history': 1, 'mht': 1, 'redsox': 1, 'loseit': 2, 'myfitnesspal': 2, 'cubstalk': 1, 'atk': 2, 'letsfootball': 2, 'fat': 1, 'burnfat': 1, 'skinny': 1, 'workout': 1, 'sjubb': 1, 'zionism': 2, 'babies': 1, 'ika': 1, 'tuning': 1, 'diet': 1, 'firefighters': 1, 'tech': 6, 'booradleyvancullen': 1, 'appreciativeinquiry': 1, 'standwithpp': 2, 'spain': 1, 'criticalmedia': 1, 'pbs': 1, 'iraq': 2, 'francisunderwood': 1, 'hoc': 1, 'afghanistan': 1, 'casualties': 1, 'civilian': 1, 'ftsn': 1, 'ftsnnewsdesk': 1, 'hiring': 11, 'wave': 1, 'casualty': 1, 'aids': 1, 'endangered': 1, 'drone': 1, 'jobs': 14, 'denver': 4, 'amicospizzato': 1, 'seeyouatamicos': 1, 'homealone': 1, 'film': 1, 'france': 3, 'diversification': 1, 'pjnet': 2, 'ccot': 2, 'borrowers': 1, 'interest': 1, 'catastrophe': 2, 'iphone': 5, 'twist': 1, 'preparedness': 5, 'boy': 1, 'mix': 1, 'vmas': 1, 'pixelsmovie': 1, 'insurance': 4, 'job': 12, 'spark': 1, 'song': 1, 'imdb': 2, 'results': 1, 'nar': 1, 'phuket': 1, 'wolves': 1, 'savedenaliwolves': 1, 'scraptrident': 1, 'real': 1, 'pieceofme': 1, 'gravitymovie': 1, 'defendant': 1, 'catastrophic': 1, 'illinois': 1, 'hazmat': 1, 'savebees': 3, 'krefeld': 1, 'seattle': 8, 'chemical': 4, 'dependency': 4, 'benews': 1, 'ijetalerts': 1, 'watersafety': 1, 'usar': 2, 'ruor': 1, 'yr': 1, 'heat': 1, 'cold': 1, 'tough': 1, 'crossfit': 1, 'humble': 1, 'funnynews': 1, 'business': 7, 'thinkpink': 1, 'magichairbump': 1, 'internet': 1, 'nieuws': 1, 'talkradio': 2, 'greece': 1, 'bailout': 1, 'theashes': 1, 'roh': 1, 'jfb': 1, 'tfb': 1, 'alrasyiditurasya': 1, 'rohsmantibatam': 1, 'wish': 1, 'oneheartonemindonecss': 1, 'tvjnews': 1, 'i': 1, 'after': 1, 'pluto': 1, 'nlccollide': 1, 'wogc': 1, 'vancouver': 3, 'isea': 1, 'gemma': 1, 'bowe': 1, 'thedoolinggroup': 1, 'wattys': 1, 'wattpad': 2, 'teenfiction': 1, 'ihaveepisodesofgg': 1, 'nojoke': 1, 'newswatch': 2, 'ptbo': 2, 'yagitudeh': 1, 'butgod': 1, 'simple': 2, 'alaskaseafood': 1, 'askforalaska': 1, 'justinbieber': 1, 'harrystyles': 1, 'cern': 1, 'harrybecareful': 3, 'hwy': 1, 'cambridge': 1, 'opp': 1, 'technology': 5, 'cool': 3, 'body': 1, 'shop': 1, 'innovation': 2, 'mapleridge': 1, 'qew': 1, 'niagara': 1, 'gadget': 1, 'course': 6, 'incident': 1, 'peritoengrafoscopia': 1, 'uk': 5, 'rochdale': 1, 'heywood': 1, 'weloveyoulouis': 1, 'windows': 1, 'hope': 1, 'modestmouseremix': 1, 'truestory': 1, 'skh': 1, 'loveyouuuu': 1, 'aintsheperty': 1, 'mrrobinson': 1, 'thesteveharveyshow': 1, 'crush': 1, 'worstsummerjob': 4, 'edwing': 1, 'nikeplus': 2, 'ayekoradio': 1, 'netlabel': 1, 'electronicmusic': 1, 'ccmusic': 1, 'wine': 1, 'dc': 1, 'chicago': 1, 'bc': 2, 'freedom': 1, 'donthate': 1, 'rewatchingthepilot': 1, 'teamscorpion': 1, 'cyclone': 1, 'camera': 1, 'art': 6, 'photography': 6, 'hannaph': 2, 'vanuatu': 2, 'kurokobot': 1, 'comdev': 1, 'asia': 1, 'bangladesh': 2, 'programs': 1, 'komen': 1, 'rohingya': 6, 'kyee': 1, 'ootd': 1, 'doubleghats': 1, 'fitness': 2, 'royals': 2, 'np': 5, 'pussy': 1, 'ass': 1, 'boobs': 1, 'asian': 1, 'nude': 1, 'glaucoma': 1, 'eye': 1, 'eyefacts': 1, 'jsunnews': 1, 'icd': 1, 'queenswharf': 1, 'brisbane': 1, 'rockin': 3, 'artistsunited': 3, 'weather': 4, 'cawx': 2, 'fettilootch': 4, 'slanglucci': 4, 'govt': 1, 'ethical': 1, 'danger': 1, 'st': 1, 'nonprofit': 1, 'afc': 2, 'coyi': 1, 'iwasdisappointedby': 1, 'askcharley': 2, 'dead': 1, 'emmerdale': 9, 'summerfate': 5, 'papiichampoo': 1, 'cyprus': 1, 'mullah': 1, 'cecilthelion': 3, 'follow': 3, 'vaxshill': 1, 'vra': 1, 'palermo': 1, 'shipwreck': 1, 'children': 1, 'deaths': 1, 'insas': 1, 'superfood': 1, 'physician': 1, 'cdcwhistleblower': 1, 'adiossuperbacterias': 1, 'nghlth': 1, 'plague': 1, 'health': 2, 'publichealth': 1, 'blackpool': 2, 'beclearoncancer': 2, 'seaworld': 1, 'opseaworld': 1, 'notrocketscience': 1, 'aerospace': 1, 'exec': 1, 'mh': 7, 'sad': 1, 'tragedy': 1, 'innocent': 1, 'food': 1, 'fun': 2, 'kamindoz': 1, 'malaysia': 2, 'baking': 1, 'cakes': 1, 'floods': 3, 'legionstrackandfield': 1, 'king': 1, 'deluge': 2, 'dumuzid': 1, 'childsexabuse': 1, 'bible': 1, 'unfml': 1, 'gishwhes': 1, 'bbagency': 1, 'contentmarketing': 1, 'asae': 1, 'assnchat': 1, 'meditationbymsg': 1, 'novalismi': 1, 'glimpses': 1, 'badotweet': 1, 'inspiration': 1, 'zionist': 4, 'terrorist': 4, 'manhood': 1, 'avigdorliberman': 1, 'susiya': 1, 'android': 1, 'androidgames': 1, 'gameinsight': 1, 'babri': 1, 'charminar': 1, 'telangana': 1, 'funtimes': 1, 'demolished': 1, 'patriots': 1, 'cantmakeitup': 1, 'patriotsnation': 1, 'backtoback': 1, 'chargedup': 1, 'media': 1, 'papicongress': 1, 'bbsnews': 1, 'buffalo': 3, 'demolition': 2, 'workers': 1, 'halifax': 1, 'burnaby': 1, 'changefortheworse': 1, 'download': 1, 'watch': 1, 'movie': 1, 'gop': 3, 'potus': 1, 'isis': 12, 'wmata': 6, 'metro': 3, 'sms': 1, 'freesikhpoliticalprisnors': 1, 'washingtonpost': 2, 'india': 10, 'alllivesmatter': 2, 'tubestrike': 6, 'coya': 1, 'london': 1, 'donzilla': 1, 'trump': 3, 'adani': 1, 'modi': 2, 'kidscompany': 1, 'illustration': 1, 'subway': 1, 'writing': 1, 'identitytheft': 2, 'taxreturn': 1, 'cri': 1, 'robertwelch': 1, 'deepthoughts': 1, 'ndtv': 1, 'teamfollowback': 1, 'followback': 1, 'modiministry': 3, 'chicagoscanner': 1, 'indiatv': 1, 'indiannews': 2, 'topstories': 2, 'onthisday': 1, 'soundcloud': 6, 'alt': 1, 'electro': 1, 'rock': 1, 'comingsoon': 2, 'desolation': 1, 'theconspiracytheory': 1, 'newep': 1, 'free': 4, 'military': 6, 'thriller': 2, 'suspense': 1, 'amreading': 1, 'phoenix': 5, 'ariz': 1, 'listia': 1, 'orshow': 1, 'cliptv': 1, 'desolationofsmaug': 1, 'poze': 1, 'thehobbit': 1, 'ashesashes': 1, 'shantaeforsmash': 1, 'shantae': 1, 'shantaehalfgeniehero': 1, 'nintendo': 1, 'yiayplan': 1, 'luck': 1, 'destroy': 2, 'reggaeboyz': 1, 'copped': 1, 'beconfident': 1, 'streetjamzdotnet': 1, 'ashestoashes': 1, 'fn': 1, 'everydaynaija': 1, 'semasirtalks': 1, 'abomb': 1, 'bbc': 10, 'survived': 1, 'cnv': 1, 'hot': 31, 'teen': 1, 'porn': 3, 'milf': 1, 'gh': 1, 'takecare': 1, 'fly': 1, 'bored': 1, 'cats': 1, 'destruction': 1, 'badkitty': 1, 'thisiswhywecanthavenicethings': 2, 'russian': 3, 'putin': 1, 'thingsihate': 1, 'bancodeseries': 2, 'boulder': 1, 'jtw': 1, 'orapinforma': 1, 'hhbu': 1, 'fiya': 1, 'indie': 1, 'appy': 1, 'gujaratriot': 1, 'mumbairiot': 1, 'chawalchorbjp': 1, 'losdelsonido': 2, 'ivanberroa': 2, 'rossbarton': 1, 'georgecole': 1, 'latestnews': 3, 'cnbc': 3, 'cnn': 9, 'hungerarticles': 1, 'firstnations': 1, 'idlenomore': 1, 'cndpoli': 1, 'yyj': 1, 'thorium': 1, 'beyondthebomb': 1, 'newyear': 1, 'momneedscoffee': 1, 'asap': 1, 'iwontmakeit': 1, 'benediction': 1, 'sanelesstheory': 1, 'jakartapost': 1, 'mediterranean': 1, 'afterhaiyan': 1, 'haiyan': 1, 'yolandaph': 1, 'philippines': 3, 'livelihood': 1, 'disasterrecovery': 1, 'theneeds': 1, 'recipes': 1, 'blowltan': 1, 'metepec': 1, 'mexico': 1, 'nitclub': 1, 'm': 2, 'foxnews': 1, 'msgdoingwelfareworks': 1, 'scifi': 1, 'myanmar': 5, 'sittwe': 5, 'prison': 3, 'genocide': 8, 'strategicpatience': 5, 'syria': 3, 'displaced': 1, 'refugeesmatter': 1, 'nevada': 1, 'drought': 6, 'nv': 2, 'makewaterwork': 1, 'westerncanadadrought': 1, 'cloud': 1, 'iot': 1, 'weed': 1, 'droughtmonitor': 1, 'rain': 2, 'scwx': 2, 'macon': 1, 'warnerrobins': 1, 'dublin': 1, 'milledgeville': 1, 'gawx': 2, 'cadrought': 1, 'lakeisabella': 1, 'live': 1, 'allthekidneybeansandsorbetmisha': 1, 'yes': 2, 'gamergate': 3, 'promo': 1, 'dw': 1, 'ufoublogeurope': 1, 'libya': 5, 'alameda': 1, 'coke': 1, 'summerk': 1, 'icymi': 1, 'annoucement': 1, 'nashsnewvideo': 1, 'anxietyproblems': 1, 'islamic': 1, 'state': 1, 'brochure': 1, 'bomb': 1, 'duststorm': 1, 'cogxbox': 1, 'xboxone': 1, 'xbox': 1, 'idwx': 1, 'sismo': 10, 'earthquakenews': 1, 'novices': 1, 'shelli': 2, 'cs': 2, 'anchorage': 2, 'usgs': 5, 'earthtwerk': 1, 'scseestapreparando': 1, 'sm': 3, 'euroquake': 1, 'quake': 2, 'difficultpeople': 1, 'megaquake': 1, 'uglypeople': 1, 'pakistan': 6, 'borderlands': 2, 'oocvg': 1, 'ftw': 1, 'red': 1, 'redblood': 1, 'videoclip': 1, 'columbus': 1, 'rowysolouisville': 1, 'southkorea': 1, 'tigers': 2, 'china': 3, 'saveti': 1, 'mumbailocals': 1, 'lessonforlife': 1, 'marinelines': 1, 'archipelagowolves': 1, 'extinction': 1, 'standforwolves': 1, 'international': 2, 'drjustinmazur': 1, 'tookitlikeaman': 1, 'lovemydentist': 1, 'sore': 1, 'protectdenaliwolves': 2, 'fire': 4, 'firemen': 1, 'firetruck': 1, 'emergency': 5, 'rescue': 1, 'summertime': 1, 'sirens': 1, 'yyc': 10, 'abstorm': 9, 'retail': 1, 'nbc': 1, 'biztip': 1, 'solar': 3, 'families': 1, 'autism': 1, 'specialneeds': 1, 'homeless': 1, 'cochrane': 1, 'nursing': 8, 'torrance': 1, 'olympia': 1, 'houston': 1, 'veterans': 3, 'followme': 1, 'rn': 1, 'henderson': 1, 'missionhills': 2, 'healthcare': 2, 'kodiak': 2, 'tarzana': 1, 'southline': 1, 'prophetmuhammad': 6, 'islam': 23, 'trafficalert': 1, 'literarycakes': 1, 'raheelsharif': 1, 'boycottbears': 1, 'tanzania': 1, 'ca': 2, 'ut': 1, 'co': 1, 'or': 1, 'tennews': 1, 'evacuate': 1, 'yemen': 1, 'evacuation': 1, 'abandoned': 1, 'fifa': 2, 'whocares': 1, 'nazis': 1, 'murfreesboro': 1, 'walmart': 1, 'liveonk': 2, 'koinnews': 3, 'miami': 3, 'atlanta': 3, 'casper': 3, 'manchesterlite': 1, 'sr': 1, 'morevoices': 1, 'roosevelt': 1, 'calfires': 1, 'lolla': 1, 'trc': 1, 'reidlake': 1, 'nwt': 1, 'yzf': 1, 'feelingmanly': 1, 'nb': 1, 'hitting': 1, 'load': 1, 'photo': 3, 'hotnewscake': 1, 'pets': 1, 'dogs': 1, 'animals': 1, 'puppy': 2, 'medinah': 1, 'imkeepingmydayjob': 1, 'otrametlife': 4, 'dating': 1, 'meet': 1, 'sex': 3, 'science': 5, 'life': 3, 'war': 2, 'atomicbomb': 1, 'cum': 1, 'hangout': 1, 'dcubecrafts': 1, 'greetingcards': 1, 'eyewitness': 1, 'ugc': 1, 'climatechange': 2, 'anarchy': 1, 'liveonkbak': 1, 'bokoharam': 1, 'bluebell': 1, 'iartg': 1, 'rwa': 1, 'twrw': 1, 'rrbc': 1, 'dynamix': 1, 'hopeinchrist': 1, 'gunfail': 1, 'nra': 1, 'crimes': 1, 'justice': 1, 'courts': 1, 'education': 1, 'econom': 1, 'hse': 1, 'saudi': 3, 'abha': 1, 'ggindependencmessage': 1, 'visionzero': 1, 'shipping': 1, 'logistics': 1, 'paranormal': 1, 'perrychat': 1, 'blackinamerica': 1, 'growingupblack': 2, 'choosegod': 1, 'restoringpaths': 1, 'thexfilesdays': 1, 'allah': 5, 'besttalkradio': 1, 'deltachildren': 1, 'instaquote': 1, 'quoteoftheday': 1, 'disney': 1, 'waltdisney': 1, 'shoes': 3, 'canonbringit': 1, 'canontattoo': 1, 'mn': 1, 'theresmorewherethatcamefrom': 1, 'lovefood': 1, 'euro': 1, 'dontexpectnothing': 1, 'july': 1, 'rfp': 1, 'reno': 1, 'prayforsaipan': 1, 'sigalert': 2, 'fireman': 1, 'filipino': 1, 'njturnpike': 2, 'lukebox': 1, 'charity': 1, 'run': 1, 'smarttek': 1, 'mpers': 1, 'safety': 1, 'gisuserpr': 1, 'geotech': 1, 'paramedic': 2, 'day': 1, 'tn': 1, 'luchaunderground': 2, 'sbnation': 1, 'flames': 1, 'portgassdk': 1, 'rubybot': 1, 'muaytai': 1, 'wantmyabsback': 1, 'strong': 1, 'cfc': 1, 'nagasaki': 3, 'floored': 1, 'flattened': 1, 'muppet': 1, 'robertcalifornia': 1, 'thereisonlysex': 1, 'hail': 2, 'wx': 7, 'socialnews': 5, 'alwx': 1, 'grants': 1, 'funds': 1, 'wxky': 1, 'environment': 3, 'nature': 2, 'hunwx': 1, 'homeimprovement': 1, 'mmda': 1, 'laos': 1, 'ukfloods': 1, 'insubcontinent': 1, 'valleywx': 1, 'vietnam': 1, 'ocnj': 1, 'frvrgrateful': 1, 'writingtips': 1, 'farrakhan': 3, 'quote': 5, 'priceless': 2, 'jazz': 1, 'music': 2, 'worldvision': 1, 'paraguay': 1, 'dua': 1, 'typhoon': 1, 'routecomplex': 2, 'socal': 1, 'realhiphop': 1, 'naturaldisasters': 1, 'palmoil': 1, 'forest': 2, 'indonesia': 2, 'bcpoli': 1, 'canpoli': 1, 'vanpoli': 1, 'trees': 1, 'deep': 1, 'lake': 1, 'heartdisease': 1, 'straightfire': 1, 'goblue': 1, 'wrestleon': 1, 'youtube': 2, 'sirmixalot': 1, 'arwx': 3, 'wcw': 1, 'kotaweather': 2, 'yycstorm': 3, 'parkchat': 1, 'okwx': 7, 'mothernature': 1, 'hailstorm': 7, 'yycfringe': 1, 'killhard': 1, 'boston': 3, 'round': 1, 'summer': 1, 'calgary': 3, 'crazyweather': 1, 'notgoingoutinthat': 1, 'alberta': 2, 'haildamage': 1, 'yycweather': 1, 'captureyyc': 1, 'sto': 1, 'carlilescanoelivery': 1, 'lovemyjob': 1, 'cowx': 1, 'jamaicaplain': 2, 'iamdowntown': 1, 'otratmetlife': 1, 'plannedparenthood': 1, 'lifestyle': 1, 'chelsea': 1, 'hazard': 1, 'wholeteam': 1, 'wholesaleent': 1, 'taiwan': 2, 'sustainable': 1, 'foodscare': 3, 'offersgo': 3, 'nestleindia': 3, 'magginoodle': 3, 'ban': 3, 'humanconsumption': 3, 'what': 1, 'tribal': 1, 'dam': 1, 'gms': 1, 'pp': 2, 'pdx': 2, 'psd': 1, 'special': 1, 'lawx': 1, 'squad': 1, 'revitup': 1, 'pizzarev': 1, 'jackson': 1, 'ms': 1, 'greatbritishbakeoff': 2, 'afterlife': 5, 'wealth': 3, 'forever': 3, 'hellfire': 4, 'reflect': 3, 'wod': 1, 'jagm': 1, 'tow': 1, 'humanrights': 1, 'mcgsecure': 1, 'sacramento': 1, 'fresno': 1, 'prebreak': 30, 'best': 30, 'chat': 1, 'twimbos': 1, 'flavorchargedtea': 1, 'auspol': 3, 'freeamirnow': 1, 'freeallfour': 1, 'hostages': 4, 'iran': 3, 'lh': 1, 'indiefilm': 1, 'terrorism': 11, 'africa': 6, 'ap': 3, 'ts': 3, 'nri': 3, 'trs': 3, 'tdp': 3, 'bjp': 3, 'aviationaddicts': 1, 'sinjar': 3, 'yazidis': 2, 'clip': 1, 'adult': 1, 'tube': 1, 'noirandeal': 1, 'tedcruz': 1, 'security': 2, 'yazidi': 3, 'is': 1, 'hurricane': 3, 'guillermo': 3, 'meteoearth': 2, 'snowden': 1, 'kick': 2, 'yug': 1, 'suryaray': 1, 'wakeupflorida': 1, 'floridians': 1, 'trophyhunt': 1, 'renewhealth': 2, 'golf': 1, 'riders': 1, 'nj': 2, 'disabledveterans': 1, 'thepartyofmeanness': 1, 'ns': 1, 'chinadotcom': 1, 'sports': 1, 'arsenal': 1, 'usmnt': 1, 'poster': 1, 'ergo': 1, 'cuff': 1, 'injury': 1, 'pft': 1, 'nyg': 1, 'nfl': 1, 'playoffs': 1, 'cowboys': 2, 'wcvb': 1, 'tms': 1, 'worm': 1, 'bangladeshaffected': 1, 'bangladeshflood': 1, 'mainstage': 1, 'kro': 1, 'sinkhole': 2, 'landslide': 5, 'emsc': 1, 'q': 1, 'tory': 1, 'x': 1, 'flashflood': 1, 'disasters': 1, 'skardu': 1, 'pantherattack': 5, 'kidsthesedays': 1, 'e': 1, 'baby': 1, 'swim': 1, 'parents': 1, 'waterboarding': 1, 'lava': 1, 'shakeology': 1, 'lightning': 2, 'pics': 2, 'scichat': 1, 'actionmoviestaughtus': 1, 'wimbledon': 1, 'faroe': 1, 'atombomb': 1, 'faroeislands': 3, 'debatequestionswewanttohear': 2, 'wahhabism': 1, 'antioch': 6, 'gunsense': 3, 'gfz': 1, 'theatershooting': 1, 'movietheatre': 1, 'grindhouse': 1, 'texaschainsawmassacre': 1, 'ezidigenocide': 1, 'rememberrabaa': 1, 'obama': 2, 'clinton': 1, 'bush': 1, 'abc': 2, 'cbs': 1, 'wsj': 1, 'wpo': 1, 'becarefulharry': 1, 'giveaway': 1, 'ramag': 4, 'models': 4, 'mayhem': 4, 'playthursdays': 2, 'masterchef': 1, 'nosurrender': 2, 'ty': 1, 'pitchwars': 1, 'blessed': 2, 'drum': 1, 'heavy': 1, 'nasty': 1, 'tangletalk': 1, 'amazon': 2, 'ushanka': 2, 'winter': 3, 'cossack': 1, 'hillaryclinton': 1, 'author': 1, 'interview': 1, 'gravity': 1, 'mom': 1, 'tomclancy': 1, 'mudslide': 4, 'britishbakeoff': 1, 'paulhollywood': 1, 'icelandreview': 1, 'vaginaorcake': 1, 'bakeofffriends': 2, 'arkansas': 1, 'nola': 1, 'askconnor': 1, 'fukushima': 9, 'nonucleariran': 1, 'badirandeal': 1, 'chernobyl': 2, 'tepco': 2, 'natural': 1, 'japanjapan': 1, 'nuclear': 9, 'anonymous': 1, 'nytimes': 3, 'jishin': 1, 'minamisoma': 1, 'irannucleardeal': 1, 'refugees': 5, 'afp': 1, 'guardian': 2, 'wps': 1, 'global': 1, 'failure': 1, 'annonymous': 1, 'ge': 1, 'robot': 1, 'navy': 1, 'japanese': 1, 'winechat': 1, 'subs': 1, 'sizewell': 1, 'richhomeydon': 1, 'swag': 1, 'likes': 1, 'instagramers': 1, 'kneelbot': 1, 'lol': 2, 'jonvoyage': 2, 'gym': 1, 'gymflow': 1, 'gymtime': 1, 'team': 1, 'assassins': 1, 'michelebachman': 2, 'globalwarming': 2, 'zimmerman': 1, 'byebyesoundcloud': 1, 'demonization': 1, 'teamhennessy': 1, 'slab': 1, 'labour': 1, 'labourleadership': 1, 'obliteration': 1, 'homosexuality': 1, 'management': 1, 'leadership': 1, 'smallbiz': 1, 'startup': 2, 'sydtraffic': 1, 'trafficnetwork': 1, 'ksbynews': 1, 'osi': 1, 'losangelestimes': 1, 'latimes': 1, 'kamloops': 1, 'legionnairesdisease': 1, 'muhamadjabal': 1, 'sebee': 1, 'losangeles': 1, 'check': 1, 'pandemonium': 2, 'copalibertadores': 1, 'bennycapricon': 1, 'shestooyoung': 1, 'cumshot': 1, 'porno': 1, 'justaguess': 1, 'deals': 1, 'autismawareness': 1, 'troubleonmymind': 1, 'natsnation': 1, 'dream': 1, 'magic': 1, 'linden': 1, 'hs': 1, 'romanticsuspense': 1, 'smartnews': 1, 'bayonets': 1, 'evilempire': 1, 'jadehelm': 1, 'shooting': 1, 'police': 1, 'helpme': 1, 'facebook': 1, 'strategy': 1, 'onlinecommunities': 3, 'reddit': 4, 'amageddon': 2, 'freespeech': 2, 'technews': 1, 'puledo': 1, 'content': 1, 'policy': 1, 'bangalore': 1, 'startups': 1, 'in': 1, 'wired': 1, 'cc': 1, 'bluehand': 1, 'sejorg': 1, 'radiation': 2, 'procedures': 1, 'iwk': 1, 'gloucester': 1, 'capeann': 1, 'seagulls': 1, 'triciaoneill': 1, 'triciaoneillphoto': 1, 'lucky': 1, 'newrelease': 1, 'people': 1, 'killed': 1, 'rainstorm': 1, 'italian': 1, 'alps': 1, 'castle': 1, 'deadgrassandflowers': 1, 'tafs': 1, 'fb': 1, 'sandiego': 4, 'gn': 1, 'northerncalifornia': 1, 'zippednews': 2, 'dutton': 2, 'abbott': 1, 'lnp': 1, 'choppergate': 1, 'bronwynbishop': 1, 'retweet': 1, 'christianvalues': 1, 'syrian': 1, 'wedding': 1, 'age': 1, 'presser': 1, 'kelbytomlinson': 1, 'animalrescue': 7, 'newbeginningsanimalrescue': 1, 'ppact': 1, 'psychrewatch': 1, 'summervibes': 1, 'pitmix': 1, 'rescued': 1, 'brixton': 1, 'banksy': 1, 'happy': 1, 'mybabies': 1, 'skyrim': 1, 'enkelbiljett': 1, 'menolippu': 1, 'cnews': 2, 'childhooddefined': 1, 'roddypiperautos': 1, 'riot': 3, 'blowmandyup': 3, 'menswear': 1, 'urbanfashion': 1, 'hyperbole': 1, 'saintsfc': 1, 'rio': 1, 'loveislove': 1, 'baltimore': 2, 'rioting': 2, 'yahistorical': 2, 'undergroundrailraod': 2, 'bhramabull': 1, 'nffc': 1, 'don': 1, 'uknews': 1, 'crazyideascollege': 1, 'wisenews': 4, 'forbes': 1, 'europe': 1, 'forbesasia': 1, 'p': 1, 'tnn': 1, 'roimentor': 1, 'yycwalks': 1, 'mta': 1, 'sorrybutitstrue': 1, 'minions': 1, 'zaatari': 1, 'cedarglade': 1, 'fierce': 1, 'addtexastonextdtour': 1, 'funnydadcoach': 1, 'idols': 1, 'days': 1, 'wdym': 1, 'nochilllukehammings': 1, 'thankyou': 1, 'gabon': 3, 'somalia': 5, 'oil': 3, 'gas': 1, 'cyber': 1, 'ey': 1, 'jap': 4, 'maps': 1, 'kml': 1, 'seismic': 1, 'offshore': 1, 'oilandgas': 1, 'gif': 1, 'funny': 2, 'comedy': 1, 'ifunny': 1, 'image': 1, 'occasionb': 1, 'fdny': 1, 'brooklyn': 1, 'yonews': 2, 'accidentalprophecy': 1, 'piling': 1, 'algeria': 1, 'lomasvisto': 1, 'cadenadeseguidores': 1, 'mtsalert': 1, 'priorities': 1, 'tna': 1, 'destinationimpact': 1, 'goodbye': 1, 'sinking': 1, 'twins': 1, 'tribe': 1, 'wishlist': 1, 'horror': 1, 'liveonstreamate': 1, 'askhcz': 1, 'millcityio': 1, 'sirensicebreaker': 1, 'abceyewitness': 1, 'hometownglory': 1, 'painting': 1, 'aoms': 3, 'ibooklove': 3, 'bookboost': 3, 'southdowns': 2, 'hampshire': 2, 'tree': 2, 'treeporn': 2, 'growingupincolorado': 1, 'amssummer': 1, 'treescape': 1, 'lakeeffect': 1, 'snowstorm': 1, 'rome': 1, 'gamefeed': 1, 'videogame': 1, 'property': 1, 'eventspalmbeach': 1, 'sportinggoods': 1, 'twcnews': 1, 'ncwx': 1, 'nasa': 1, 'stretcher': 1, 'foot': 1, 'adjust': 1, 'shape': 1, 'shoe': 1, 'preventative': 1, 'cts': 1, 'stopevictions': 1, 'bestnaijamade': 6, 'homs': 1, 'grupdates': 1, 'mercados': 2, 'tripoli': 1, 'saudiarabia': 1, 'deai': 1, 'premonitions': 2, 'kppolice': 1, 'kuwait': 1, 'investing': 1, 'money': 2, 'trading': 2, 'forex': 2, 'gold': 1, 'silver': 1, 'tootrue': 1, 'thomassmonson': 1, 'lds': 1, 'mormon': 1, 'books': 2, 'teamsurvivors': 1, 'zombiefunrun': 1, 'autoinsurance': 2, 'healthinsurance': 1, 'driverlesscars': 1, 'markets': 1, 'holomua': 1, 'makinmemories': 1, 'otd': 1, 'chronicillness': 1, 'mylifestory': 1, 'nuclearweapons': 1, 'coppednews': 1, 'lungcancer': 1, 'nuke': 1, 'shanghai': 1, 'cubs': 1, 'truth': 7, 'god': 7, 'quran': 7, 'lies': 7, 'politics': 2, 'newsarama': 1, 'anti': 1, 'act': 1, 'metrofmtalk': 3, 'elections': 1, 'achedin': 1, 'bethlehem': 1, 'palestinians': 2, 'udhampuragain': 1, 'traitor': 1, 'keepingtheviginaclean': 1, 'dfir': 1, 'threatintel': 1, 'drones': 1, 'privacy': 1, 'bhusa': 1, 'playingnow': 1, 'bloodbound': 1, 'gander': 1, 'nlwx': 1, 'joestrong': 1, 'gokitgo': 1, 'thunder': 4, 'soothmyslumber': 1, 'watermeloann': 1, 'populardemand': 1, 'she': 1, 'back': 1, 'oklahoma': 1, 'nba': 1, 'durant': 1, 'usnwsgov': 3, 'skywarn': 1, 'thunderstorm': 3, 'ar': 2, 'nc': 2, 'ok': 2, 'vivaargentina': 1, 'lightningstrike': 1, 'helsinki': 1, 'tornadogiveaway': 1, 'thebookclub': 1, 'pod': 1, 'quotes': 1, 'jamaica': 1, 'chile': 2, 'newsdict': 1, 'nz': 1, 'hugomatz': 1, 'nissannews': 1, 'ptsdchat': 2, 'gravitychat': 1, 'marijuana': 2, 'ptsd': 1, 'hempoil': 1, 'cannabis': 1, 'childhood': 1, 'trauma': 1, 'foamed': 1, 'foamcc': 1, 'survivors': 1, 'oneborn': 1, 'traumatised': 2, 'snapchatselfie': 1, 'wrongperson': 1, 'varagesale': 1, 'thebargain': 1, 'fartanxiety': 1, 'prez': 1, 'nopower': 1, 'thanku': 3, 'bbshelli': 1, 'banking': 1, 'bitcoing': 1, 'blockchain': 1, 'sing': 2, 'tsunami': 2, 'computer': 2, 'oktxduo': 1, 'iheartradio': 1, 'toosoon': 1, 'toronto': 2, 'twisterlovesshania': 1, 'acenewsdesk': 1, 'abcnews': 1, 'thegame': 2, 'elderly': 1, 'companionship': 1, 'care': 1, 'chester': 1, 'sydney': 1, 'aus': 1, 'ferguson': 1, 'orcot': 1, 'orpol': 1, 'travel': 1, 'stormchase': 2, 'amsterdam': 2, 'badchoices': 1, 'bantrophyhunting': 1, 'aogashima': 1, 'volcano': 2, 'perspective': 1, 'csismica': 1, 'cityofmemphis': 1, 'littlewomenla': 1, 'worldwatchesferguson': 1, 'professional': 1, 'help': 1, 'terror': 1, 'cameroon': 1, 'whitehouse': 1, 'es': 1, 'fr': 1, 'nigeria': 1, 'de': 1, 'au': 1, 'jp': 1, 'insanelimits': 1, 'plugin': 1, 'mandela': 1, 'ineedexposure': 1, 'uswarcrimes': 1, 'ojoubot': 1, 'gaming': 1, 'tv': 1, 'battlefield': 1, 'billings': 2, 'rapidcity': 2, 'cheyenne': 2, 'bookmobile': 1, 'libraries': 1, 'reading': 1, 'bigbrother': 1, 'ch': 1, 'finsup': 1, 'mantra': 1, 'whirlwind': 2, 'remymarcel': 1, 'frofrofro': 1, 'drained': 1, 'titania': 1, 'cantwaittoplayinminneapolis': 1, 'picthis': 1, 'snooker': 1, 'fires': 1, 'wild': 1, 'sanonofre': 1, 'foxdebatequestions': 1, 'profittothepeople': 1, 'fingerrockfire': 1, 'azwx': 1, 'idfire': 4, 'vail': 1, 'smem': 1, 'firenews': 1, 'wa': 1, 'utfire': 1, 'lancaster': 1, 'helicopter': 1, 'firefighting': 1, 'oregon': 1, 'easternoregon': 1, 'calwildfires': 1, 'galvnews': 1, 'nook': 1, 'thebachelorette': 1, 'wzbt': 1, 'txlege': 1, 'twia': 1, 'hardball': 1, 'windstorm': 1, 'besafe': 1, 'datingtips': 1, 'goodreads': 1, 'nomorehandouts': 1, 'kindlecountdown': 1, 'sale': 2, 'mfrwauthor': 1, 'mgtab': 1, 'an': 1, 'client': 1, 'kerricktrial': 5, 'jonathanferrell': 2, 'kashmir': 2, 'endoccupation': 1, 'endconflict': 1, 'freekashmir': 1, 'kashmirconflict': 1, 'twcnewsclt': 1, 'bishopfred': 1, 'neverforget': 1, 'artectura': 1, 'pop': 1, 'n': 1, 'playlist': 1, 'shoalstraffic': 1, 'najibrazak': 1, 'malaysiaairlines': 1, 'thatswhatfriendsarefor': 1, 'residualincome': 1, 'mlm': 1, 'wrecked': 1, 'topnews': 1, 'whoops': 1, 'fx': 1, 'explodingkittens': 1, 'tnwx': 1, 'nws': 1, 'bathandnortheastsomerset': 1, 'la': 1}\n"
     ]
    }
   ],
   "source": [
    "hashtags = important_hashtags \n",
    "print(important_hashtags)"
   ]
  },
  {
   "cell_type": "code",
   "execution_count": 400,
   "id": "a46e98fa",
   "metadata": {},
   "outputs": [
    {
     "name": "stdout",
     "output_type": "stream",
     "text": [
      "this is the list of keys present in our dictionary: \n",
      " {'news': 76, 'hot': 31, 'prebreak': 30, 'best': 30, 'hiroshima': 24, 'nowplaying': 23, 'islam': 23, 'earthquake': 19, 'gbbo': 19, 'jobs': 14, 'job': 12, 'isis': 12, 'breaking': 11, 'world': 11, 'japan': 11, 'hiring': 11, 'terrorism': 11, 'rt': 10, 'india': 10, 'bbc': 10, 'sismo': 10, 'yyc': 10, 'worldnews': 9, 'directioners': 9, 'irandeal': 9, 'fashion': 9, 'emmerdale': 9, 'cnn': 9, 'abstorm': 9, 'fukushima': 9, 'nuclear': 9, 'disaster': 8, 'edm': 8, 'dnb': 8, 'beyhive': 8, 'tcot': 8, 'handbag': 8, 'wildfire': 8, 'seattle': 8, 'genocide': 8, 'nursing': 8, 'dubstep': 7, 'trapmusic': 7, 'dance': 7, 'ices': 7, 'us': 7, 'mtvhottest': 7, 'business': 7, 'mh': 7, 'wx': 7, 'okwx': 7, 'hailstorm': 7, 'animalrescue': 7, 'truth': 7, 'god': 7, 'quran': 7, 'lies': 7, 'armageddon': 6, 'kindle': 6, 'bb': 6, 'womens': 6, 'usa': 6, 'tech': 6, 'course': 6, 'art': 6, 'photography': 6, 'rohingya': 6, 'wmata': 6, 'tubestrike': 6, 'soundcloud': 6, 'military': 6, 'drought': 6, 'pakistan': 6, 'prophetmuhammad': 6, 'africa': 6, 'antioch': 6, 'bestnaijamade': 6, 'wildfires': 5, 'california': 5, 'lgbt': 5, 'newyork': 5, 'tbt': 5, 'mumbai': 5, 'iphone': 5, 'preparedness': 5, 'technology': 5, 'uk': 5, 'np': 5, 'summerfate': 5, 'phoenix': 5, 'myanmar': 5, 'sittwe': 5, 'strategicpatience': 5, 'libya': 5, 'usgs': 5, 'emergency': 5, 'science': 5, 'allah': 5, 'socialnews': 5, 'quote': 5, 'afterlife': 5, 'landslide': 5, 'pantherattack': 5, 'refugees': 5, 'somalia': 5, 'kerricktrial': 5, 'rockyfire': 4, 'flood': 4, 'flooding': 4, 'nsfw': 4, 'manchester': 4, 'accident': 4, 'kca': 4, 'votejktid': 4, 'ems': 4, 'mets': 4, 'pbban': 4, 'love': 4, 'avalanche': 4, 'video': 4, 'listen': 4, 'radio': 4, 'breakingnews': 4, 'bioterrorism': 4, 'bluejays': 4, 'denver': 4, 'insurance': 4, 'chemical': 4, 'dependency': 4, 'worstsummerjob': 4, 'weather': 4, 'fettilootch': 4, 'slanglucci': 4, 'zionist': 4, 'terrorist': 4, 'free': 4, 'fire': 4, 'otrametlife': 4, 'hellfire': 4, 'hostages': 4, 'ramag': 4, 'models': 4, 'mayhem': 4, 'mudslide': 4, 'reddit': 4, 'sandiego': 4, 'wisenews': 4, 'jap': 4, 'thunder': 4, 'idfire': 4, 'traffic': 3, 'mlb': 3, 'airplane': 3, 'yugvani': 3, 'til': 3, 'reuters': 3, 'gilbert': 3, 'apocalypse': 3, 'ultimalucha': 3, 'israel': 3, 'russia': 3, 'newsintweets': 3, 'palestine': 3, 'frontpage': 3, 'bioterror': 3, 'rickperry': 3, 'gopdebate': 3, 'nyc': 3, 'ebola': 3, 'arts': 3, 'ashes': 3, 'blacklivesmatter': 3, 'france': 3, 'savebees': 3, 'vancouver': 3, 'harrybecareful': 3, 'cool': 3, 'rockin': 3, 'artistsunited': 3, 'cecilthelion': 3, 'follow': 3, 'floods': 3, 'buffalo': 3, 'gop': 3, 'metro': 3, 'trump': 3, 'modiministry': 3, 'porn': 3, 'russian': 3, 'latestnews': 3, 'cnbc': 3, 'philippines': 3, 'prison': 3, 'syria': 3, 'gamergate': 3, 'sm': 3, 'china': 3, 'solar': 3, 'veterans': 3, 'koinnews': 3, 'miami': 3, 'atlanta': 3, 'casper': 3, 'photo': 3, 'sex': 3, 'life': 3, 'saudi': 3, 'shoes': 3, 'nagasaki': 3, 'environment': 3, 'farrakhan': 3, 'arwx': 3, 'yycstorm': 3, 'boston': 3, 'calgary': 3, 'foodscare': 3, 'offersgo': 3, 'nestleindia': 3, 'magginoodle': 3, 'ban': 3, 'humanconsumption': 3, 'wealth': 3, 'forever': 3, 'reflect': 3, 'auspol': 3, 'iran': 3, 'ap': 3, 'ts': 3, 'nri': 3, 'trs': 3, 'tdp': 3, 'bjp': 3, 'sinjar': 3, 'yazidi': 3, 'hurricane': 3, 'guillermo': 3, 'faroeislands': 3, 'gunsense': 3, 'winter': 3, 'nytimes': 3, 'onlinecommunities': 3, 'riot': 3, 'blowmandyup': 3, 'gabon': 3, 'oil': 3, 'aoms': 3, 'ibooklove': 3, 'bookboost': 3, 'metrofmtalk': 3, 'usnwsgov': 3, 'thunderstorm': 3, 'thanku': 3, 'alaska': 2, 'cafire': 2, 'florida': 2, 'tampa': 2, 'we': 2, 'mufc': 2, 'climate': 2, 'arrestpastornganga': 2, 'rip': 2, 'aircraft': 2, 'crash': 2, 'g': 2, 'fantasticfour': 2, 'wildhorses': 2, 'storm': 2, 'doublecups': 2, 'truelove': 2, 'romance': 2, 'voodoo': 2, 'seduction': 2, 'astrology': 2, 'rtrrt': 2, 'lotz': 2, 'entertainment': 2, 'dvd': 2, 'auction': 2, 'sosfam': 2, 'videoveranomtv': 2, 'kisii': 2, 'countynews': 2, 'udhampur': 2, 'pt': 2, 'bitcoin': 2, 'colorado': 2, 'nhl': 2, 'ww': 2, 'phone': 2, 'socialmedia': 2, 'hiphop': 2, 'listenlive': 2, 'arizona': 2, 'palestinian': 2, 'mystery': 2, 'style': 2, 'ovofest': 2, 'turkish': 2, 'canada': 2, 'entrepreneur': 2, 'australia': 2, 'generalnews': 2, 'oped': 2, 'engvaus': 2, 'gadgets': 2, 'infosec': 2, 'tweetlikeitsseptemberth': 2, 'ny': 2, 'loseit': 2, 'myfitnesspal': 2, 'atk': 2, 'letsfootball': 2, 'zionism': 2, 'standwithpp': 2, 'iraq': 2, 'pjnet': 2, 'ccot': 2, 'catastrophe': 2, 'imdb': 2, 'usar': 2, 'talkradio': 2, 'wattpad': 2, 'newswatch': 2, 'ptbo': 2, 'simple': 2, 'innovation': 2, 'nikeplus': 2, 'bc': 2, 'hannaph': 2, 'vanuatu': 2, 'bangladesh': 2, 'fitness': 2, 'royals': 2, 'cawx': 2, 'afc': 2, 'askcharley': 2, 'health': 2, 'blackpool': 2, 'beclearoncancer': 2, 'fun': 2, 'malaysia': 2, 'deluge': 2, 'demolition': 2, 'washingtonpost': 2, 'alllivesmatter': 2, 'modi': 2, 'identitytheft': 2, 'indiannews': 2, 'topstories': 2, 'comingsoon': 2, 'thriller': 2, 'destroy': 2, 'thisiswhywecanthavenicethings': 2, 'bancodeseries': 2, 'losdelsonido': 2, 'ivanberroa': 2, 'm': 2, 'nv': 2, 'rain': 2, 'scwx': 2, 'gawx': 2, 'yes': 2, 'shelli': 2, 'cs': 2, 'anchorage': 2, 'quake': 2, 'borderlands': 2, 'tigers': 2, 'international': 2, 'protectdenaliwolves': 2, 'missionhills': 2, 'healthcare': 2, 'kodiak': 2, 'ca': 2, 'fifa': 2, 'liveonk': 2, 'puppy': 2, 'war': 2, 'climatechange': 2, 'growingupblack': 2, 'sigalert': 2, 'njturnpike': 2, 'paramedic': 2, 'luchaunderground': 2, 'hail': 2, 'nature': 2, 'priceless': 2, 'music': 2, 'routecomplex': 2, 'forest': 2, 'indonesia': 2, 'youtube': 2, 'kotaweather': 2, 'alberta': 2, 'jamaicaplain': 2, 'taiwan': 2, 'pp': 2, 'pdx': 2, 'greatbritishbakeoff': 2, 'yazidis': 2, 'security': 2, 'meteoearth': 2, 'kick': 2, 'renewhealth': 2, 'nj': 2, 'cowboys': 2, 'sinkhole': 2, 'lightning': 2, 'pics': 2, 'debatequestionswewanttohear': 2, 'obama': 2, 'abc': 2, 'playthursdays': 2, 'nosurrender': 2, 'blessed': 2, 'amazon': 2, 'ushanka': 2, 'bakeofffriends': 2, 'chernobyl': 2, 'tepco': 2, 'guardian': 2, 'lol': 2, 'jonvoyage': 2, 'michelebachman': 2, 'globalwarming': 2, 'startup': 2, 'pandemonium': 2, 'amageddon': 2, 'freespeech': 2, 'radiation': 2, 'zippednews': 2, 'dutton': 2, 'cnews': 2, 'baltimore': 2, 'rioting': 2, 'yahistorical': 2, 'undergroundrailraod': 2, 'funny': 2, 'yonews': 2, 'southdowns': 2, 'hampshire': 2, 'tree': 2, 'treeporn': 2, 'mercados': 2, 'premonitions': 2, 'money': 2, 'trading': 2, 'forex': 2, 'books': 2, 'autoinsurance': 2, 'politics': 2, 'palestinians': 2, 'ar': 2, 'nc': 2, 'ok': 2, 'chile': 2, 'ptsdchat': 2, 'marijuana': 2, 'traumatised': 2, 'sing': 2, 'tsunami': 2, 'computer': 2, 'toronto': 2, 'thegame': 2, 'stormchase': 2, 'amsterdam': 2, 'volcano': 2, 'billings': 2, 'rapidcity': 2, 'cheyenne': 2, 'whirlwind': 2, 'sale': 2, 'jonathanferrell': 2, 'kashmir': 2, 'raining': 1, 'tampabay': 1, 'metal': 1, 'africanbaze': 1, 'bridgetown': 1, 'kurds': 1, 'diyala': 1, 'energy': 1, 'nashvilletraffic': 1, 'santaclara': 1, 'bayarea': 1, 'personalinjury': 1, 'solicitor': 1, 'otleyhour': 1, 'stlouis': 1, 'caraccidentlawyer': 1, 'truckcrash': 1, 'fortworth': 1, 'ashville': 1, 'hagerstown': 1, 'whag': 1, 'bahrain': 1, 'growingupspoiled': 1, 'wisdomwed': 1, 'lifehacks': 1, 'silverwood': 1, 'aftershock': 1, 'book': 1, 'now': 1, 'wdyouth': 1, 'biblestudy': 1, 'horrible': 1, 'watchthevideo': 1, 'binladen': 1, 'man': 1, 'airport': 1, 'aeroplane': 1, 'runway': 1, 'freaky': 1, 'pilot': 1, 'death': 1, 'carfest': 1, 'omg': 1, 'jetengine': 1, 'turbojet': 1, 'boing': 1, 'rodkiai': 1, 'emsne': 1, 'justsaying': 1, 'randomthought': 1, 'dna': 1, 'paramedics': 1, 'ambulance': 1, 'fantstic': 1, 'lgm': 1, 'az': 1, 'tantonationalforest': 1, 'saltriverwildhorses': 1, 'sciencefiction': 1, 'internetradio': 1, 'collegeradi': 1, 'warmbodies': 1, 'etcpb': 1, 'pla': 1, 'eonlinechat': 1, 'planet': 1, 'startrek': 1, 'tos': 1, 'brucewillis': 1, 'ebay': 1, 'preppers': 1, 'doomsday': 1, 'shtf': 1, 'preppertalk': 1, 'survival': 1, 'a': 1, 'prepper': 1, 'christians': 1, 'cufi': 1, 'preseasonworkouts': 1, 'interestraterise': 1, 'brics': 1, 'roberts': 1, 'thereal': 1, 'queens': 1, 'fanarmyfaceoff': 1, 'indiakomuntorjawabdo': 1, 'mtvsummerstar': 1, 'lesbian': 1, 'cbcto': 1, 'vegetarian': 1, 'vegan': 1, 'govegan': 1, 'uniteblue': 1, 'arsonist': 1, 'headlines': 1, 'nightbeat': 1, 'minutemix': 1, 'spotlight': 1, 'wniagospel': 1, 'newsadl': 1, 'sanfrancisco': 1, 'nativehuman': 1, 'myreligion': 1, 'allthenews': 1, 'volleyball': 1, 'ableg': 1, 'cdnpoli': 1, 'nwo': 1, 'pugprobs': 1, 'robotcoingame': 1, 'freebitcoin': 1, 'welovela': 1, 'nhlducks': 1, 'sportsroadhouse': 1, 'hockey': 1, 'weddinghour': 1, 'coloradoavalanche': 1, 'entretenimento': 1, 'bts': 1, 'nowplay': 1, 'tb': 1, 'throwback': 1, 'sfgiants': 1, 'du': 1, 'warcraft': 1, 'lonepine': 1, 'gallipoli': 1, 'apple': 1, 'mobile': 1, 'orchardalley': 1, 'les': 1, 'gardens': 1, 'trucking': 1, 'fedex': 1, 'anthrax': 1, 'virus': 1, 'infectiousdiseases': 1, 'pathogen': 1, 'infectious': 1, 'digitalhealth': 1, 'hcsm': 1, 'glanders': 1, 'raisinfingers': 1, 'family': 1, 'cleveland': 1, 'standup': 1, 'thisispublichealth': 1, 'artisteoftheweekfact': 1, 'conversations': 1, 'coastcoastdjs': 1, 'jiwonle': 1, 'clubbanger': 1, 'weddings': 1, 'stoponesounds': 1, 'airwaves': 1, 'hinatobot': 1, 'escorts': 1, 'gfe': 1, 'dubai': 1, 'realestate': 1, 'oomf': 1, 'fastfurious': 1, 'sun': 1, 'earth': 1, 'catfishmtv': 1, 'wbc': 1, 'catfish': 1, 'harperanetflixshow': 1, 'elxn': 1, 'stopharper': 1, 'doping': 1, 'zippoline': 1, 'moveit': 1, 'cle': 1, 'refugee': 1, 'israeli': 1, 'tweettaiji': 1, 'overwatch': 1, 'lwb': 1, 'tattoo': 1, 'speakingfromexperience': 1, 'decisionsondecisions': 1, 'rolandonabeats': 1, 'win': 1, 'bbloggers': 1, 'stephenking': 1, 'thedarktower': 1, 'insomnia': 1, 'boxing': 1, 'bloodymonday': 1, 'tvshowtime': 1, 'thisdayinhistory': 1, 'musicadvisory': 1, 'givebackkalinwhiteaccount': 1, 'piperwearsthepants': 1, 'charmed': 1, 'republicans': 1, 'trollingtilmeekdiss': 1, 'vuzuhustle': 1, 'ziphimup': 1, 'bestseller': 1, 'concert': 1, 'movingk': 1, 'expertwhiner': 1, 'cutekitten': 1, 'catsofinstagram': 1, 'summerinsweden': 1, 'katt': 1, 'katterp': 1, 'dumle': 1, 'dagens': 1, 'norge': 1, 'enolagay': 1, 'whatcanthedo': 1, 'elephantintheroom': 1, 'bannukes': 1, 'date': 1, 'africansinsf': 1, 'beyondgps': 1, 'bombed': 1, 'banthebomb': 1, 'settingsuccess': 1, 'smallbusiness': 1, 'pearlharbor': 1, 'cricket': 1, 'collapse': 1, 'traintragedy': 1, 'computers': 1, 'slingnews': 1, 'sustainability': 1, 'newsmornings': 1, 'respect': 1, 'thestrain': 1, 'kenya': 1, 'langata': 1, 'albany': 1, 'ppsellsbabyparts': 1, 'rdg': 1, 'nhnews': 1, 'montgomery': 1, 'history': 1, 'mht': 1, 'redsox': 1, 'cubstalk': 1, 'fat': 1, 'burnfat': 1, 'skinny': 1, 'workout': 1, 'sjubb': 1, 'babies': 1, 'ika': 1, 'tuning': 1, 'diet': 1, 'firefighters': 1, 'booradleyvancullen': 1, 'appreciativeinquiry': 1, 'spain': 1, 'criticalmedia': 1, 'pbs': 1, 'francisunderwood': 1, 'hoc': 1, 'afghanistan': 1, 'casualties': 1, 'civilian': 1, 'ftsn': 1, 'ftsnnewsdesk': 1, 'wave': 1, 'casualty': 1, 'aids': 1, 'endangered': 1, 'drone': 1, 'amicospizzato': 1, 'seeyouatamicos': 1, 'homealone': 1, 'film': 1, 'diversification': 1, 'borrowers': 1, 'interest': 1, 'twist': 1, 'boy': 1, 'mix': 1, 'vmas': 1, 'pixelsmovie': 1, 'spark': 1, 'song': 1, 'results': 1, 'nar': 1, 'phuket': 1, 'wolves': 1, 'savedenaliwolves': 1, 'scraptrident': 1, 'real': 1, 'pieceofme': 1, 'gravitymovie': 1, 'defendant': 1, 'catastrophic': 1, 'illinois': 1, 'hazmat': 1, 'krefeld': 1, 'benews': 1, 'ijetalerts': 1, 'watersafety': 1, 'ruor': 1, 'yr': 1, 'heat': 1, 'cold': 1, 'tough': 1, 'crossfit': 1, 'humble': 1, 'funnynews': 1, 'thinkpink': 1, 'magichairbump': 1, 'internet': 1, 'nieuws': 1, 'greece': 1, 'bailout': 1, 'theashes': 1, 'roh': 1, 'jfb': 1, 'tfb': 1, 'alrasyiditurasya': 1, 'rohsmantibatam': 1, 'wish': 1, 'oneheartonemindonecss': 1, 'tvjnews': 1, 'i': 1, 'after': 1, 'pluto': 1, 'nlccollide': 1, 'wogc': 1, 'isea': 1, 'gemma': 1, 'bowe': 1, 'thedoolinggroup': 1, 'wattys': 1, 'teenfiction': 1, 'ihaveepisodesofgg': 1, 'nojoke': 1, 'yagitudeh': 1, 'butgod': 1, 'alaskaseafood': 1, 'askforalaska': 1, 'justinbieber': 1, 'harrystyles': 1, 'cern': 1, 'hwy': 1, 'cambridge': 1, 'opp': 1, 'body': 1, 'shop': 1, 'mapleridge': 1, 'qew': 1, 'niagara': 1, 'gadget': 1, 'incident': 1, 'peritoengrafoscopia': 1, 'rochdale': 1, 'heywood': 1, 'weloveyoulouis': 1, 'windows': 1, 'hope': 1, 'modestmouseremix': 1, 'truestory': 1, 'skh': 1, 'loveyouuuu': 1, 'aintsheperty': 1, 'mrrobinson': 1, 'thesteveharveyshow': 1, 'crush': 1, 'edwing': 1, 'ayekoradio': 1, 'netlabel': 1, 'electronicmusic': 1, 'ccmusic': 1, 'wine': 1, 'dc': 1, 'chicago': 1, 'freedom': 1, 'donthate': 1, 'rewatchingthepilot': 1, 'teamscorpion': 1, 'cyclone': 1, 'camera': 1, 'kurokobot': 1, 'comdev': 1, 'asia': 1, 'programs': 1, 'komen': 1, 'kyee': 1, 'ootd': 1, 'doubleghats': 1, 'pussy': 1, 'ass': 1, 'boobs': 1, 'asian': 1, 'nude': 1, 'glaucoma': 1, 'eye': 1, 'eyefacts': 1, 'jsunnews': 1, 'icd': 1, 'queenswharf': 1, 'brisbane': 1, 'govt': 1, 'ethical': 1, 'danger': 1, 'st': 1, 'nonprofit': 1, 'coyi': 1, 'iwasdisappointedby': 1, 'dead': 1, 'papiichampoo': 1, 'cyprus': 1, 'mullah': 1, 'vaxshill': 1, 'vra': 1, 'palermo': 1, 'shipwreck': 1, 'children': 1, 'deaths': 1, 'insas': 1, 'superfood': 1, 'physician': 1, 'cdcwhistleblower': 1, 'adiossuperbacterias': 1, 'nghlth': 1, 'plague': 1, 'publichealth': 1, 'seaworld': 1, 'opseaworld': 1, 'notrocketscience': 1, 'aerospace': 1, 'exec': 1, 'sad': 1, 'tragedy': 1, 'innocent': 1, 'food': 1, 'kamindoz': 1, 'baking': 1, 'cakes': 1, 'legionstrackandfield': 1, 'king': 1, 'dumuzid': 1, 'childsexabuse': 1, 'bible': 1, 'unfml': 1, 'gishwhes': 1, 'bbagency': 1, 'contentmarketing': 1, 'asae': 1, 'assnchat': 1, 'meditationbymsg': 1, 'novalismi': 1, 'glimpses': 1, 'badotweet': 1, 'inspiration': 1, 'manhood': 1, 'avigdorliberman': 1, 'susiya': 1, 'android': 1, 'androidgames': 1, 'gameinsight': 1, 'babri': 1, 'charminar': 1, 'telangana': 1, 'funtimes': 1, 'demolished': 1, 'patriots': 1, 'cantmakeitup': 1, 'patriotsnation': 1, 'backtoback': 1, 'chargedup': 1, 'media': 1, 'papicongress': 1, 'bbsnews': 1, 'workers': 1, 'halifax': 1, 'burnaby': 1, 'changefortheworse': 1, 'download': 1, 'watch': 1, 'movie': 1, 'potus': 1, 'sms': 1, 'freesikhpoliticalprisnors': 1, 'coya': 1, 'london': 1, 'donzilla': 1, 'adani': 1, 'kidscompany': 1, 'illustration': 1, 'subway': 1, 'writing': 1, 'taxreturn': 1, 'cri': 1, 'robertwelch': 1, 'deepthoughts': 1, 'ndtv': 1, 'teamfollowback': 1, 'followback': 1, 'chicagoscanner': 1, 'indiatv': 1, 'onthisday': 1, 'alt': 1, 'electro': 1, 'rock': 1, 'desolation': 1, 'theconspiracytheory': 1, 'newep': 1, 'suspense': 1, 'amreading': 1, 'ariz': 1, 'listia': 1, 'orshow': 1, 'cliptv': 1, 'desolationofsmaug': 1, 'poze': 1, 'thehobbit': 1, 'ashesashes': 1, 'shantaeforsmash': 1, 'shantae': 1, 'shantaehalfgeniehero': 1, 'nintendo': 1, 'yiayplan': 1, 'luck': 1, 'reggaeboyz': 1, 'copped': 1, 'beconfident': 1, 'streetjamzdotnet': 1, 'ashestoashes': 1, 'fn': 1, 'everydaynaija': 1, 'semasirtalks': 1, 'abomb': 1, 'survived': 1, 'cnv': 1, 'teen': 1, 'milf': 1, 'gh': 1, 'takecare': 1, 'fly': 1, 'bored': 1, 'cats': 1, 'destruction': 1, 'badkitty': 1, 'putin': 1, 'thingsihate': 1, 'boulder': 1, 'jtw': 1, 'orapinforma': 1, 'hhbu': 1, 'fiya': 1, 'indie': 1, 'appy': 1, 'gujaratriot': 1, 'mumbairiot': 1, 'chawalchorbjp': 1, 'rossbarton': 1, 'georgecole': 1, 'hungerarticles': 1, 'firstnations': 1, 'idlenomore': 1, 'cndpoli': 1, 'yyj': 1, 'thorium': 1, 'beyondthebomb': 1, 'newyear': 1, 'momneedscoffee': 1, 'asap': 1, 'iwontmakeit': 1, 'benediction': 1, 'sanelesstheory': 1, 'jakartapost': 1, 'mediterranean': 1, 'afterhaiyan': 1, 'haiyan': 1, 'yolandaph': 1, 'livelihood': 1, 'disasterrecovery': 1, 'theneeds': 1, 'recipes': 1, 'blowltan': 1, 'metepec': 1, 'mexico': 1, 'nitclub': 1, 'foxnews': 1, 'msgdoingwelfareworks': 1, 'scifi': 1, 'displaced': 1, 'refugeesmatter': 1, 'nevada': 1, 'makewaterwork': 1, 'westerncanadadrought': 1, 'cloud': 1, 'iot': 1, 'weed': 1, 'droughtmonitor': 1, 'macon': 1, 'warnerrobins': 1, 'dublin': 1, 'milledgeville': 1, 'cadrought': 1, 'lakeisabella': 1, 'live': 1, 'allthekidneybeansandsorbetmisha': 1, 'promo': 1, 'dw': 1, 'ufoublogeurope': 1, 'alameda': 1, 'coke': 1, 'summerk': 1, 'icymi': 1, 'annoucement': 1, 'nashsnewvideo': 1, 'anxietyproblems': 1, 'islamic': 1, 'state': 1, 'brochure': 1, 'bomb': 1, 'duststorm': 1, 'cogxbox': 1, 'xboxone': 1, 'xbox': 1, 'idwx': 1, 'earthquakenews': 1, 'novices': 1, 'earthtwerk': 1, 'scseestapreparando': 1, 'euroquake': 1, 'difficultpeople': 1, 'megaquake': 1, 'uglypeople': 1, 'oocvg': 1, 'ftw': 1, 'red': 1, 'redblood': 1, 'videoclip': 1, 'columbus': 1, 'rowysolouisville': 1, 'southkorea': 1, 'saveti': 1, 'mumbailocals': 1, 'lessonforlife': 1, 'marinelines': 1, 'archipelagowolves': 1, 'extinction': 1, 'standforwolves': 1, 'drjustinmazur': 1, 'tookitlikeaman': 1, 'lovemydentist': 1, 'sore': 1, 'firemen': 1, 'firetruck': 1, 'rescue': 1, 'summertime': 1, 'sirens': 1, 'retail': 1, 'nbc': 1, 'biztip': 1, 'families': 1, 'autism': 1, 'specialneeds': 1, 'homeless': 1, 'cochrane': 1, 'torrance': 1, 'olympia': 1, 'houston': 1, 'followme': 1, 'rn': 1, 'henderson': 1, 'tarzana': 1, 'southline': 1, 'trafficalert': 1, 'literarycakes': 1, 'raheelsharif': 1, 'boycottbears': 1, 'tanzania': 1, 'ut': 1, 'co': 1, 'or': 1, 'tennews': 1, 'evacuate': 1, 'yemen': 1, 'evacuation': 1, 'abandoned': 1, 'whocares': 1, 'nazis': 1, 'murfreesboro': 1, 'walmart': 1, 'manchesterlite': 1, 'sr': 1, 'morevoices': 1, 'roosevelt': 1, 'calfires': 1, 'lolla': 1, 'trc': 1, 'reidlake': 1, 'nwt': 1, 'yzf': 1, 'feelingmanly': 1, 'nb': 1, 'hitting': 1, 'load': 1, 'hotnewscake': 1, 'pets': 1, 'dogs': 1, 'animals': 1, 'medinah': 1, 'imkeepingmydayjob': 1, 'dating': 1, 'meet': 1, 'atomicbomb': 1, 'cum': 1, 'hangout': 1, 'dcubecrafts': 1, 'greetingcards': 1, 'eyewitness': 1, 'ugc': 1, 'anarchy': 1, 'liveonkbak': 1, 'bokoharam': 1, 'bluebell': 1, 'iartg': 1, 'rwa': 1, 'twrw': 1, 'rrbc': 1, 'dynamix': 1, 'hopeinchrist': 1, 'gunfail': 1, 'nra': 1, 'crimes': 1, 'justice': 1, 'courts': 1, 'education': 1, 'econom': 1, 'hse': 1, 'abha': 1, 'ggindependencmessage': 1, 'visionzero': 1, 'shipping': 1, 'logistics': 1, 'paranormal': 1, 'perrychat': 1, 'blackinamerica': 1, 'choosegod': 1, 'restoringpaths': 1, 'thexfilesdays': 1, 'besttalkradio': 1, 'deltachildren': 1, 'instaquote': 1, 'quoteoftheday': 1, 'disney': 1, 'waltdisney': 1, 'canonbringit': 1, 'canontattoo': 1, 'mn': 1, 'theresmorewherethatcamefrom': 1, 'lovefood': 1, 'euro': 1, 'dontexpectnothing': 1, 'july': 1, 'rfp': 1, 'reno': 1, 'prayforsaipan': 1, 'fireman': 1, 'filipino': 1, 'lukebox': 1, 'charity': 1, 'run': 1, 'smarttek': 1, 'mpers': 1, 'safety': 1, 'gisuserpr': 1, 'geotech': 1, 'day': 1, 'tn': 1, 'sbnation': 1, 'flames': 1, 'portgassdk': 1, 'rubybot': 1, 'muaytai': 1, 'wantmyabsback': 1, 'strong': 1, 'cfc': 1, 'floored': 1, 'flattened': 1, 'muppet': 1, 'robertcalifornia': 1, 'thereisonlysex': 1, 'alwx': 1, 'grants': 1, 'funds': 1, 'wxky': 1, 'hunwx': 1, 'homeimprovement': 1, 'mmda': 1, 'laos': 1, 'ukfloods': 1, 'insubcontinent': 1, 'valleywx': 1, 'vietnam': 1, 'ocnj': 1, 'frvrgrateful': 1, 'writingtips': 1, 'jazz': 1, 'worldvision': 1, 'paraguay': 1, 'dua': 1, 'typhoon': 1, 'socal': 1, 'realhiphop': 1, 'naturaldisasters': 1, 'palmoil': 1, 'bcpoli': 1, 'canpoli': 1, 'vanpoli': 1, 'trees': 1, 'deep': 1, 'lake': 1, 'heartdisease': 1, 'straightfire': 1, 'goblue': 1, 'wrestleon': 1, 'sirmixalot': 1, 'wcw': 1, 'parkchat': 1, 'mothernature': 1, 'yycfringe': 1, 'killhard': 1, 'round': 1, 'summer': 1, 'crazyweather': 1, 'notgoingoutinthat': 1, 'haildamage': 1, 'yycweather': 1, 'captureyyc': 1, 'sto': 1, 'carlilescanoelivery': 1, 'lovemyjob': 1, 'cowx': 1, 'iamdowntown': 1, 'otratmetlife': 1, 'plannedparenthood': 1, 'lifestyle': 1, 'chelsea': 1, 'hazard': 1, 'wholeteam': 1, 'wholesaleent': 1, 'sustainable': 1, 'what': 1, 'tribal': 1, 'dam': 1, 'gms': 1, 'psd': 1, 'special': 1, 'lawx': 1, 'squad': 1, 'revitup': 1, 'pizzarev': 1, 'jackson': 1, 'ms': 1, 'wod': 1, 'jagm': 1, 'tow': 1, 'humanrights': 1, 'mcgsecure': 1, 'sacramento': 1, 'fresno': 1, 'chat': 1, 'twimbos': 1, 'flavorchargedtea': 1, 'freeamirnow': 1, 'freeallfour': 1, 'lh': 1, 'indiefilm': 1, 'aviationaddicts': 1, 'clip': 1, 'adult': 1, 'tube': 1, 'noirandeal': 1, 'tedcruz': 1, 'is': 1, 'snowden': 1, 'yug': 1, 'suryaray': 1, 'wakeupflorida': 1, 'floridians': 1, 'trophyhunt': 1, 'golf': 1, 'riders': 1, 'disabledveterans': 1, 'thepartyofmeanness': 1, 'ns': 1, 'chinadotcom': 1, 'sports': 1, 'arsenal': 1, 'usmnt': 1, 'poster': 1, 'ergo': 1, 'cuff': 1, 'injury': 1, 'pft': 1, 'nyg': 1, 'nfl': 1, 'playoffs': 1, 'wcvb': 1, 'tms': 1, 'worm': 1, 'bangladeshaffected': 1, 'bangladeshflood': 1, 'mainstage': 1, 'kro': 1, 'emsc': 1, 'q': 1, 'tory': 1, 'x': 1, 'flashflood': 1, 'disasters': 1, 'skardu': 1, 'kidsthesedays': 1, 'e': 1, 'baby': 1, 'swim': 1, 'parents': 1, 'waterboarding': 1, 'lava': 1, 'shakeology': 1, 'scichat': 1, 'actionmoviestaughtus': 1, 'wimbledon': 1, 'faroe': 1, 'atombomb': 1, 'wahhabism': 1, 'gfz': 1, 'theatershooting': 1, 'movietheatre': 1, 'grindhouse': 1, 'texaschainsawmassacre': 1, 'ezidigenocide': 1, 'rememberrabaa': 1, 'clinton': 1, 'bush': 1, 'cbs': 1, 'wsj': 1, 'wpo': 1, 'becarefulharry': 1, 'giveaway': 1, 'masterchef': 1, 'ty': 1, 'pitchwars': 1, 'drum': 1, 'heavy': 1, 'nasty': 1, 'tangletalk': 1, 'cossack': 1, 'hillaryclinton': 1, 'author': 1, 'interview': 1, 'gravity': 1, 'mom': 1, 'tomclancy': 1, 'britishbakeoff': 1, 'paulhollywood': 1, 'icelandreview': 1, 'vaginaorcake': 1, 'arkansas': 1, 'nola': 1, 'askconnor': 1, 'nonucleariran': 1, 'badirandeal': 1, 'natural': 1, 'japanjapan': 1, 'anonymous': 1, 'jishin': 1, 'minamisoma': 1, 'irannucleardeal': 1, 'afp': 1, 'wps': 1, 'global': 1, 'failure': 1, 'annonymous': 1, 'ge': 1, 'robot': 1, 'navy': 1, 'japanese': 1, 'winechat': 1, 'subs': 1, 'sizewell': 1, 'richhomeydon': 1, 'swag': 1, 'likes': 1, 'instagramers': 1, 'kneelbot': 1, 'gym': 1, 'gymflow': 1, 'gymtime': 1, 'team': 1, 'assassins': 1, 'zimmerman': 1, 'byebyesoundcloud': 1, 'demonization': 1, 'teamhennessy': 1, 'slab': 1, 'labour': 1, 'labourleadership': 1, 'obliteration': 1, 'homosexuality': 1, 'management': 1, 'leadership': 1, 'smallbiz': 1, 'sydtraffic': 1, 'trafficnetwork': 1, 'ksbynews': 1, 'osi': 1, 'losangelestimes': 1, 'latimes': 1, 'kamloops': 1, 'legionnairesdisease': 1, 'muhamadjabal': 1, 'sebee': 1, 'losangeles': 1, 'check': 1, 'copalibertadores': 1, 'bennycapricon': 1, 'shestooyoung': 1, 'cumshot': 1, 'porno': 1, 'justaguess': 1, 'deals': 1, 'autismawareness': 1, 'troubleonmymind': 1, 'natsnation': 1, 'dream': 1, 'magic': 1, 'linden': 1, 'hs': 1, 'romanticsuspense': 1, 'smartnews': 1, 'bayonets': 1, 'evilempire': 1, 'jadehelm': 1, 'shooting': 1, 'police': 1, 'helpme': 1, 'facebook': 1, 'strategy': 1, 'technews': 1, 'puledo': 1, 'content': 1, 'policy': 1, 'bangalore': 1, 'startups': 1, 'in': 1, 'wired': 1, 'cc': 1, 'bluehand': 1, 'sejorg': 1, 'procedures': 1, 'iwk': 1, 'gloucester': 1, 'capeann': 1, 'seagulls': 1, 'triciaoneill': 1, 'triciaoneillphoto': 1, 'lucky': 1, 'newrelease': 1, 'people': 1, 'killed': 1, 'rainstorm': 1, 'italian': 1, 'alps': 1, 'castle': 1, 'deadgrassandflowers': 1, 'tafs': 1, 'fb': 1, 'gn': 1, 'northerncalifornia': 1, 'abbott': 1, 'lnp': 1, 'choppergate': 1, 'bronwynbishop': 1, 'retweet': 1, 'christianvalues': 1, 'syrian': 1, 'wedding': 1, 'age': 1, 'presser': 1, 'kelbytomlinson': 1, 'newbeginningsanimalrescue': 1, 'ppact': 1, 'psychrewatch': 1, 'summervibes': 1, 'pitmix': 1, 'rescued': 1, 'brixton': 1, 'banksy': 1, 'happy': 1, 'mybabies': 1, 'skyrim': 1, 'enkelbiljett': 1, 'menolippu': 1, 'childhooddefined': 1, 'roddypiperautos': 1, 'menswear': 1, 'urbanfashion': 1, 'hyperbole': 1, 'saintsfc': 1, 'rio': 1, 'loveislove': 1, 'bhramabull': 1, 'nffc': 1, 'don': 1, 'uknews': 1, 'crazyideascollege': 1, 'forbes': 1, 'europe': 1, 'forbesasia': 1, 'p': 1, 'tnn': 1, 'roimentor': 1, 'yycwalks': 1, 'mta': 1, 'sorrybutitstrue': 1, 'minions': 1, 'zaatari': 1, 'cedarglade': 1, 'fierce': 1, 'addtexastonextdtour': 1, 'funnydadcoach': 1, 'idols': 1, 'days': 1, 'wdym': 1, 'nochilllukehammings': 1, 'thankyou': 1, 'gas': 1, 'cyber': 1, 'ey': 1, 'maps': 1, 'kml': 1, 'seismic': 1, 'offshore': 1, 'oilandgas': 1, 'gif': 1, 'comedy': 1, 'ifunny': 1, 'image': 1, 'occasionb': 1, 'fdny': 1, 'brooklyn': 1, 'accidentalprophecy': 1, 'piling': 1, 'algeria': 1, 'lomasvisto': 1, 'cadenadeseguidores': 1, 'mtsalert': 1, 'priorities': 1, 'tna': 1, 'destinationimpact': 1, 'goodbye': 1, 'sinking': 1, 'twins': 1, 'tribe': 1, 'wishlist': 1, 'horror': 1, 'liveonstreamate': 1, 'askhcz': 1, 'millcityio': 1, 'sirensicebreaker': 1, 'abceyewitness': 1, 'hometownglory': 1, 'painting': 1, 'growingupincolorado': 1, 'amssummer': 1, 'treescape': 1, 'lakeeffect': 1, 'snowstorm': 1, 'rome': 1, 'gamefeed': 1, 'videogame': 1, 'property': 1, 'eventspalmbeach': 1, 'sportinggoods': 1, 'twcnews': 1, 'ncwx': 1, 'nasa': 1, 'stretcher': 1, 'foot': 1, 'adjust': 1, 'shape': 1, 'shoe': 1, 'preventative': 1, 'cts': 1, 'stopevictions': 1, 'homs': 1, 'grupdates': 1, 'tripoli': 1, 'saudiarabia': 1, 'deai': 1, 'kppolice': 1, 'kuwait': 1, 'investing': 1, 'gold': 1, 'silver': 1, 'tootrue': 1, 'thomassmonson': 1, 'lds': 1, 'mormon': 1, 'teamsurvivors': 1, 'zombiefunrun': 1, 'healthinsurance': 1, 'driverlesscars': 1, 'markets': 1, 'holomua': 1, 'makinmemories': 1, 'otd': 1, 'chronicillness': 1, 'mylifestory': 1, 'nuclearweapons': 1, 'coppednews': 1, 'lungcancer': 1, 'nuke': 1, 'shanghai': 1, 'cubs': 1, 'newsarama': 1, 'anti': 1, 'act': 1, 'elections': 1, 'achedin': 1, 'bethlehem': 1, 'udhampuragain': 1, 'traitor': 1, 'keepingtheviginaclean': 1, 'dfir': 1, 'threatintel': 1, 'drones': 1, 'privacy': 1, 'bhusa': 1, 'playingnow': 1, 'bloodbound': 1, 'gander': 1, 'nlwx': 1, 'joestrong': 1, 'gokitgo': 1, 'soothmyslumber': 1, 'watermeloann': 1, 'populardemand': 1, 'she': 1, 'back': 1, 'oklahoma': 1, 'nba': 1, 'durant': 1, 'skywarn': 1, 'vivaargentina': 1, 'lightningstrike': 1, 'helsinki': 1, 'tornadogiveaway': 1, 'thebookclub': 1, 'pod': 1, 'quotes': 1, 'jamaica': 1, 'newsdict': 1, 'nz': 1, 'hugomatz': 1, 'nissannews': 1, 'gravitychat': 1, 'ptsd': 1, 'hempoil': 1, 'cannabis': 1, 'childhood': 1, 'trauma': 1, 'foamed': 1, 'foamcc': 1, 'survivors': 1, 'oneborn': 1, 'snapchatselfie': 1, 'wrongperson': 1, 'varagesale': 1, 'thebargain': 1, 'fartanxiety': 1, 'prez': 1, 'nopower': 1, 'bbshelli': 1, 'banking': 1, 'bitcoing': 1, 'blockchain': 1, 'oktxduo': 1, 'iheartradio': 1, 'toosoon': 1, 'twisterlovesshania': 1, 'acenewsdesk': 1, 'abcnews': 1, 'elderly': 1, 'companionship': 1, 'care': 1, 'chester': 1, 'sydney': 1, 'aus': 1, 'ferguson': 1, 'orcot': 1, 'orpol': 1, 'travel': 1, 'badchoices': 1, 'bantrophyhunting': 1, 'aogashima': 1, 'perspective': 1, 'csismica': 1, 'cityofmemphis': 1, 'littlewomenla': 1, 'worldwatchesferguson': 1, 'professional': 1, 'help': 1, 'terror': 1, 'cameroon': 1, 'whitehouse': 1, 'es': 1, 'fr': 1, 'nigeria': 1, 'de': 1, 'au': 1, 'jp': 1, 'insanelimits': 1, 'plugin': 1, 'mandela': 1, 'ineedexposure': 1, 'uswarcrimes': 1, 'ojoubot': 1, 'gaming': 1, 'tv': 1, 'battlefield': 1, 'bookmobile': 1, 'libraries': 1, 'reading': 1, 'bigbrother': 1, 'ch': 1, 'finsup': 1, 'mantra': 1, 'remymarcel': 1, 'frofrofro': 1, 'drained': 1, 'titania': 1, 'cantwaittoplayinminneapolis': 1, 'picthis': 1, 'snooker': 1, 'fires': 1, 'wild': 1, 'sanonofre': 1, 'foxdebatequestions': 1, 'profittothepeople': 1, 'fingerrockfire': 1, 'azwx': 1, 'vail': 1, 'smem': 1, 'firenews': 1, 'wa': 1, 'utfire': 1, 'lancaster': 1, 'helicopter': 1, 'firefighting': 1, 'oregon': 1, 'easternoregon': 1, 'calwildfires': 1, 'galvnews': 1, 'nook': 1, 'thebachelorette': 1, 'wzbt': 1, 'txlege': 1, 'twia': 1, 'hardball': 1, 'windstorm': 1, 'besafe': 1, 'datingtips': 1, 'goodreads': 1, 'nomorehandouts': 1, 'kindlecountdown': 1, 'mfrwauthor': 1, 'mgtab': 1, 'an': 1, 'client': 1, 'endoccupation': 1, 'endconflict': 1, 'freekashmir': 1, 'kashmirconflict': 1, 'twcnewsclt': 1, 'bishopfred': 1, 'neverforget': 1, 'artectura': 1, 'pop': 1, 'n': 1, 'playlist': 1, 'shoalstraffic': 1, 'najibrazak': 1, 'malaysiaairlines': 1, 'thatswhatfriendsarefor': 1, 'residualincome': 1, 'mlm': 1, 'wrecked': 1, 'topnews': 1, 'whoops': 1, 'fx': 1, 'explodingkittens': 1, 'tnwx': 1, 'nws': 1, 'bathandnortheastsomerset': 1, 'la': 1}\n",
      "\n",
      "\n",
      "\n",
      " this is the size of our hashtags:  1879\n"
     ]
    }
   ],
   "source": [
    "sorted_hashtags = sorted(hashtags.items(), key = lambda x : x[1], reverse = True)\n",
    "temp            = dict(sorted_hashtags)\n",
    "hashtags        = temp\n",
    "del temp \n",
    "print(\"this is the list of keys present in our dictionary: \\n\", hashtags)\n",
    "print(\"\\n\\n\\n this is the size of our hashtags: \", len(hashtags))\n"
   ]
  },
  {
   "cell_type": "markdown",
   "id": "d977b24c",
   "metadata": {},
   "source": [
    "I thought if I would have my hashtags - I could fed top 10% by freq in order to warn my neural net to keep an eye on tweets that contain them in order to ameliorate the prediciton quality.\n",
    "\n",
    "This is time consuming and I'm not sure if this is a good idea -- so I will just try to write a random NN and then will look what can be improved an how/"
   ]
  },
  {
   "cell_type": "code",
   "execution_count": 401,
   "id": "50b22fcd",
   "metadata": {},
   "outputs": [
    {
     "name": "stdout",
     "output_type": "stream",
     "text": [
      "<class 'pandas.core.frame.DataFrame'>\n",
      "RangeIndex: 7613 entries, 0 to 7612\n",
      "Data columns (total 5 columns):\n",
      " #   Column    Non-Null Count  Dtype \n",
      "---  ------    --------------  ----- \n",
      " 0   id        7613 non-null   int64 \n",
      " 1   keyword   7552 non-null   object\n",
      " 2   location  5080 non-null   object\n",
      " 3   text      7613 non-null   object\n",
      " 4   target    7613 non-null   int64 \n",
      "dtypes: int64(2), object(3)\n",
      "memory usage: 297.5+ KB\n"
     ]
    }
   ],
   "source": [
    "train.info()"
   ]
  },
  {
   "cell_type": "code",
   "execution_count": 402,
   "id": "d67e7a5a",
   "metadata": {},
   "outputs": [
    {
     "data": {
      "text/plain": [
       "0          NaN\n",
       "1          NaN\n",
       "2          NaN\n",
       "3          NaN\n",
       "4          NaN\n",
       "        ...   \n",
       "95    accident\n",
       "96    accident\n",
       "97    accident\n",
       "98    accident\n",
       "99    accident\n",
       "Name: keyword, Length: 100, dtype: object"
      ]
     },
     "execution_count": 402,
     "metadata": {},
     "output_type": "execute_result"
    }
   ],
   "source": [
    "train['keyword'].head(100)"
   ]
  },
  {
   "cell_type": "code",
   "execution_count": 403,
   "id": "45809e99",
   "metadata": {},
   "outputs": [],
   "source": [
    "train = train.drop(columns = ['location'])\n",
    "test  = test.drop(columns = ['location'])"
   ]
  },
  {
   "cell_type": "code",
   "execution_count": 404,
   "id": "a07794dd",
   "metadata": {},
   "outputs": [
    {
     "data": {
      "text/html": [
       "<div>\n",
       "<style scoped>\n",
       "    .dataframe tbody tr th:only-of-type {\n",
       "        vertical-align: middle;\n",
       "    }\n",
       "\n",
       "    .dataframe tbody tr th {\n",
       "        vertical-align: top;\n",
       "    }\n",
       "\n",
       "    .dataframe thead th {\n",
       "        text-align: right;\n",
       "    }\n",
       "</style>\n",
       "<table border=\"1\" class=\"dataframe\">\n",
       "  <thead>\n",
       "    <tr style=\"text-align: right;\">\n",
       "      <th></th>\n",
       "      <th>id</th>\n",
       "      <th>keyword</th>\n",
       "      <th>text</th>\n",
       "      <th>target</th>\n",
       "    </tr>\n",
       "  </thead>\n",
       "  <tbody>\n",
       "    <tr>\n",
       "      <th>0</th>\n",
       "      <td>1</td>\n",
       "      <td>NaN</td>\n",
       "      <td>Our Deeds are the Reason of this #earthquake M...</td>\n",
       "      <td>1</td>\n",
       "    </tr>\n",
       "    <tr>\n",
       "      <th>1</th>\n",
       "      <td>4</td>\n",
       "      <td>NaN</td>\n",
       "      <td>Forest fire near La Ronge Sask. Canada</td>\n",
       "      <td>1</td>\n",
       "    </tr>\n",
       "    <tr>\n",
       "      <th>2</th>\n",
       "      <td>5</td>\n",
       "      <td>NaN</td>\n",
       "      <td>All residents asked to 'shelter in place' are ...</td>\n",
       "      <td>1</td>\n",
       "    </tr>\n",
       "    <tr>\n",
       "      <th>3</th>\n",
       "      <td>6</td>\n",
       "      <td>NaN</td>\n",
       "      <td>13,000 people receive #wildfires evacuation or...</td>\n",
       "      <td>1</td>\n",
       "    </tr>\n",
       "    <tr>\n",
       "      <th>4</th>\n",
       "      <td>7</td>\n",
       "      <td>NaN</td>\n",
       "      <td>Just got sent this photo from Ruby #Alaska as ...</td>\n",
       "      <td>1</td>\n",
       "    </tr>\n",
       "  </tbody>\n",
       "</table>\n",
       "</div>"
      ],
      "text/plain": [
       "   id keyword                                               text  target\n",
       "0   1     NaN  Our Deeds are the Reason of this #earthquake M...       1\n",
       "1   4     NaN             Forest fire near La Ronge Sask. Canada       1\n",
       "2   5     NaN  All residents asked to 'shelter in place' are ...       1\n",
       "3   6     NaN  13,000 people receive #wildfires evacuation or...       1\n",
       "4   7     NaN  Just got sent this photo from Ruby #Alaska as ...       1"
      ]
     },
     "execution_count": 404,
     "metadata": {},
     "output_type": "execute_result"
    }
   ],
   "source": [
    "train.head()"
   ]
  },
  {
   "cell_type": "code",
   "execution_count": 405,
   "id": "d042b5e6",
   "metadata": {},
   "outputs": [
    {
     "data": {
      "text/html": [
       "<div>\n",
       "<style scoped>\n",
       "    .dataframe tbody tr th:only-of-type {\n",
       "        vertical-align: middle;\n",
       "    }\n",
       "\n",
       "    .dataframe tbody tr th {\n",
       "        vertical-align: top;\n",
       "    }\n",
       "\n",
       "    .dataframe thead th {\n",
       "        text-align: right;\n",
       "    }\n",
       "</style>\n",
       "<table border=\"1\" class=\"dataframe\">\n",
       "  <thead>\n",
       "    <tr style=\"text-align: right;\">\n",
       "      <th></th>\n",
       "      <th>id</th>\n",
       "      <th>keyword</th>\n",
       "      <th>text</th>\n",
       "    </tr>\n",
       "  </thead>\n",
       "  <tbody>\n",
       "    <tr>\n",
       "      <th>0</th>\n",
       "      <td>0</td>\n",
       "      <td>NaN</td>\n",
       "      <td>Just happened a terrible car crash</td>\n",
       "    </tr>\n",
       "    <tr>\n",
       "      <th>1</th>\n",
       "      <td>2</td>\n",
       "      <td>NaN</td>\n",
       "      <td>Heard about #earthquake is different cities, s...</td>\n",
       "    </tr>\n",
       "    <tr>\n",
       "      <th>2</th>\n",
       "      <td>3</td>\n",
       "      <td>NaN</td>\n",
       "      <td>there is a forest fire at spot pond, geese are...</td>\n",
       "    </tr>\n",
       "    <tr>\n",
       "      <th>3</th>\n",
       "      <td>9</td>\n",
       "      <td>NaN</td>\n",
       "      <td>Apocalypse lighting. #Spokane #wildfires</td>\n",
       "    </tr>\n",
       "    <tr>\n",
       "      <th>4</th>\n",
       "      <td>11</td>\n",
       "      <td>NaN</td>\n",
       "      <td>Typhoon Soudelor kills 28 in China and Taiwan</td>\n",
       "    </tr>\n",
       "  </tbody>\n",
       "</table>\n",
       "</div>"
      ],
      "text/plain": [
       "   id keyword                                               text\n",
       "0   0     NaN                 Just happened a terrible car crash\n",
       "1   2     NaN  Heard about #earthquake is different cities, s...\n",
       "2   3     NaN  there is a forest fire at spot pond, geese are...\n",
       "3   9     NaN           Apocalypse lighting. #Spokane #wildfires\n",
       "4  11     NaN      Typhoon Soudelor kills 28 in China and Taiwan"
      ]
     },
     "execution_count": 405,
     "metadata": {},
     "output_type": "execute_result"
    }
   ],
   "source": [
    "test.head()"
   ]
  },
  {
   "cell_type": "code",
   "execution_count": 406,
   "id": "6173fcb4",
   "metadata": {},
   "outputs": [],
   "source": [
    "# "
   ]
  },
  {
   "cell_type": "markdown",
   "id": "bcad240e",
   "metadata": {},
   "source": [
    "## 2. Clean data and prepare it for modelling "
   ]
  },
  {
   "cell_type": "markdown",
   "id": "07ca8013",
   "metadata": {},
   "source": [
    "list of things to do:\n",
    "- [x] remove capitalisation \n",
    "- [x] remove punctuation and other symbols (except for '#') \n",
    "- [x] remove digits from our hashtags \n",
    "- [ ] apply stemming \n",
    "- [ ] replace NaN in keywords (maybe using hashtags present in tweets?)\n",
    "- [x] remove URLs \n",
    "- [ ] expand contractions "
   ]
  },
  {
   "cell_type": "code",
   "execution_count": 407,
   "id": "af198d41",
   "metadata": {},
   "outputs": [],
   "source": [
    "# remove capitalisation \n",
    "for dataset in [train, test]:\n",
    "    dataset['text'] = dataset['text'].apply(lambda x : x.lower())\n"
   ]
  },
  {
   "cell_type": "code",
   "execution_count": 408,
   "id": "8f8e953c",
   "metadata": {},
   "outputs": [
    {
     "name": "stdout",
     "output_type": "stream",
     "text": [
      "Check out my Facebook profile:  and don't forget to entire on \n",
      "my wife has site called \n"
     ]
    }
   ],
   "source": [
    "# generated by chatgpt because I'm lazy, really and this tasks is just pain in the ass\n",
    "import re\n",
    "\n",
    "def remove_urls(text):\n",
    "    # Regex pattern to match URLs starting with www. or https://\n",
    "    pattern = r\"(www\\.|https?://)[^\\s/$.?#].[^\\s]*\"\n",
    "    \n",
    "    # Removing URLs from the text\n",
    "    cleaned_text = re.sub(pattern, \"\", text)\n",
    "    return cleaned_text\n",
    "\n",
    "# Example usage\n",
    "text  = \"Check out my Facebook profile: www.facebook.com/johndoe and don't forget to entire on https://website.com\"\n",
    "text2 = \"my wife has site called http://lasta.com\"\n",
    "cleaned_text  = remove_urls(text)\n",
    "cleaned_text2 = remove_urls(text2)\n",
    "print(cleaned_text)\n",
    "print(cleaned_text2)"
   ]
  },
  {
   "cell_type": "code",
   "execution_count": 409,
   "id": "0c7e1fb5",
   "metadata": {},
   "outputs": [],
   "source": [
    "# remove actual links \n",
    "for dataset in [train, test]:\n",
    "    dataset['text'] = dataset['text'].apply(remove_urls)"
   ]
  },
  {
   "cell_type": "code",
   "execution_count": 410,
   "id": "f80cbc71",
   "metadata": {},
   "outputs": [
    {
     "name": "stderr",
     "output_type": "stream",
     "text": [
      "/tmp/ipykernel_12708/527243225.py:13: SettingWithCopyWarning: \n",
      "A value is trying to be set on a copy of a slice from a DataFrame\n",
      "\n",
      "See the caveats in the documentation: https://pandas.pydata.org/pandas-docs/stable/user_guide/indexing.html#returning-a-view-versus-a-copy\n",
      "  data.iloc[index] = sentence\n"
     ]
    }
   ],
   "source": [
    "# remove special symbols (this function takes pandas.Series() and returns another pandas.Series())\n",
    "def remove_special_symbols(data): \n",
    "    for index, text in data.items():\n",
    "        sentence = ''\n",
    "        for c in text:\n",
    "            idx = ord(c) # ASCII index of our character \n",
    "            is_symbol = (33 <= idx and idx <= 64) or (91 <= idx and idx <= 96) or (123 <= idx and idx <= 126)\n",
    "            if c != '#' and is_symbol: \n",
    "                continue\n",
    "            if c == '#' or is_alphabetical(c) or c == ' ':\n",
    "                sentence = sentence + c\n",
    "        \n",
    "        data.iloc[index] = sentence \n",
    "    \n",
    "    return data\n",
    "for dataset in [train, test]:\n",
    "    dataset['text'] = remove_special_symbols(dataset['text'])\n"
   ]
  },
  {
   "cell_type": "code",
   "execution_count": 412,
   "id": "9b8008a8",
   "metadata": {},
   "outputs": [
    {
     "name": "stdout",
     "output_type": "stream",
     "text": [
      "sentence ex =   people receive #wildfires evacuation orders in california \n",
      "sentence ex =  #rockyfire update  california hwy  closed in both directions due to lake county fire  #cafire #wildfires\n",
      "sentence ex =  deputies man shot before brighton home set ablaze \n",
      "sentence ex =  eganator there arent many obliteration servers but i always like to play when there are d\n"
     ]
    }
   ],
   "source": [
    "print(\"sentence ex = \", train.iloc[3]['text'])\n",
    "print(\"sentence ex = \", train.iloc[5]['text'])\n",
    "print(\"sentence ex = \", train.iloc[50]['text'])\n",
    "print(\"sentence ex = \", train.iloc[5226]['text'])"
   ]
  },
  {
   "cell_type": "code",
   "execution_count": null,
   "id": "f5b9c67b",
   "metadata": {},
   "outputs": [],
   "source": []
  }
 ],
 "metadata": {
  "kernelspec": {
   "display_name": "Python 3 (ipykernel)",
   "language": "python",
   "name": "python3"
  },
  "language_info": {
   "codemirror_mode": {
    "name": "ipython",
    "version": 3
   },
   "file_extension": ".py",
   "mimetype": "text/x-python",
   "name": "python",
   "nbconvert_exporter": "python",
   "pygments_lexer": "ipython3",
   "version": "3.10.6"
  }
 },
 "nbformat": 4,
 "nbformat_minor": 5
}
